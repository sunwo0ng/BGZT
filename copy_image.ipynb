{
 "cells": [
  {
   "cell_type": "code",
   "execution_count": 1,
   "metadata": {},
   "outputs": [],
   "source": [
    "import numpy as np\n",
    "import pandas as pd\n",
    "from tqdm import tqdm\n",
    "from itertools import product\n",
    "import datetime\n",
    "import matplotlib.pyplot as plt\n",
    "import collections as cc\n",
    "import seaborn as sns\n",
    "from collections import Counter\n",
    "import re\n",
    "from bs4 import BeautifulSoup\n",
    "from konlpy.tag import Okt\n",
    "\n"
   ]
  },
  {
   "cell_type": "code",
   "execution_count": 2,
   "metadata": {},
   "outputs": [
    {
     "name": "stderr",
     "output_type": "stream",
     "text": [
      "C:\\Users\\sunwoong\\AppData\\Local\\Temp\\ipykernel_32328\\1764178325.py:2: DtypeWarning: Columns (22,26,27) have mixed types. Specify dtype option on import or set low_memory=False.\n",
      "  data1=pd.read_csv(data1_dir,encoding='cp949')\n"
     ]
    }
   ],
   "source": [
    "data1_dir = \"../data1.csv\"\n",
    "data1=pd.read_csv(data1_dir,encoding='cp949')\n",
    "data3_dir = \"../data3.csv\"\n",
    "data3=pd.read_csv(data3_dir,encoding='cp949')"
   ]
  },
  {
   "cell_type": "code",
   "execution_count": 5,
   "metadata": {},
   "outputs": [
    {
     "data": {
      "text/plain": [
       "name_kor\n",
       "나이키 에어포스 1 '07 로우 화이트                          1176\n",
       "뉴발란스 992 메이드 인 USA 그레이                          995\n",
       "뉴발란스 993 메이드 인 USA 그레이                          993\n",
       "나이키 에어포스 1 '07 WB 플랙스                           990\n",
       "나이키 덩크 로우 레트로 블랙                                982\n",
       "컨버스 척 70 하이 블랙                                  822\n",
       "팀버랜드 프리미엄 6인치 워터프루프 부츠 위트 누벅                    694\n",
       "조던 1 x 트래비스 스캇 x 프라그먼트 레트로 로우 OG SP 밀리터리 블루     615\n",
       "아디다스 삼바 OG 클라우드 화이트                             609\n",
       "아디다스 슈퍼스타 코어 블랙 화이트                             597\n",
       "컨버스 척 70 로우 블랙                                  590\n",
       "나이키 에어포스 1 '07 로우 트리플 블랙                        550\n",
       "아식스 젤 카야노 14 크림 블랙                              547\n",
       "아디다스 삼바 OG 블랙 화이트 검                             512\n",
       "나이키 SB 덩크 로우 프로 시카고                             490\n",
       "Name: count, dtype: int64"
      ]
     },
     "execution_count": 5,
     "metadata": {},
     "output_type": "execute_result"
    }
   ],
   "source": [
    "name_kor_counts = data1['name_kor'].value_counts()\n",
    "name_kor_counts[:15]"
   ]
  },
  {
   "cell_type": "code",
   "execution_count": 6,
   "metadata": {},
   "outputs": [],
   "source": [
    "filtered_data = data1[data1['name_kor'].str.contains(\"뉴발란스 992 메이드 인 USA 그레이|뉴발란스 993 메이드 인 USA 그레이|컨버스 척 70 로우 블랙\", na=False)]"
   ]
  },
  {
   "cell_type": "code",
   "execution_count": 8,
   "metadata": {},
   "outputs": [],
   "source": [
    "data3_dir = \"../data3.csv\"\n",
    "data3=pd.read_csv(data3_dir,encoding='cp949')\n",
    "data4_dir = \"../data4.csv\"\n",
    "data4=pd.read_csv(data4_dir,encoding='cp949')"
   ]
  },
  {
   "cell_type": "code",
   "execution_count": 9,
   "metadata": {},
   "outputs": [],
   "source": [
    "filtered_data = filtered_data[~filtered_data['id'].isin(data3['pid'])]"
   ]
  },
  {
   "cell_type": "code",
   "execution_count": 10,
   "metadata": {},
   "outputs": [],
   "source": [
    "filtered_data2 = filtered_data.dropna(subset=['setl_done_date', 'purchase_confirm_date'], how='all')\n"
   ]
  },
  {
   "cell_type": "code",
   "execution_count": 12,
   "metadata": {},
   "outputs": [],
   "source": [
    "filtered_data2.to_csv('Other_model.csv',encoding='cp949',index=False)"
   ]
  },
  {
   "cell_type": "code",
   "execution_count": null,
   "metadata": {},
   "outputs": [],
   "source": []
  },
  {
   "cell_type": "code",
   "execution_count": 1,
   "metadata": {},
   "outputs": [
    {
     "name": "stdout",
     "output_type": "stream",
     "text": [
      "모든 파일이 상위 폴더로 이동되었습니다.\n"
     ]
    }
   ],
   "source": [
    "import os\n",
    "import shutil\n",
    "\n",
    "# 상위 폴더 경로 설정\n",
    "base_folder = './YOLO/Image_folder'\n",
    "\n",
    "# 상위 폴더의 모든 하위 폴더 탐색\n",
    "for subdir, dirs, files in os.walk(base_folder):\n",
    "    for file in files:\n",
    "        # 하위 폴더의 파일 경로 생성\n",
    "        file_path = os.path.join(subdir, file)\n",
    "        # 파일을 상위 폴더로 이동\n",
    "        shutil.move(file_path, base_folder)\n",
    "\n",
    "# 모든 작업이 완료되었음을 알리는 메시지\n",
    "print(\"모든 파일이 상위 폴더로 이동되었습니다.\")"
   ]
  },
  {
   "cell_type": "code",
   "execution_count": null,
   "metadata": {},
   "outputs": [],
   "source": []
  }
 ],
 "metadata": {
  "kernelspec": {
   "display_name": "Python 3",
   "language": "python",
   "name": "python3"
  },
  "language_info": {
   "codemirror_mode": {
    "name": "ipython",
    "version": 3
   },
   "file_extension": ".py",
   "mimetype": "text/x-python",
   "name": "python",
   "nbconvert_exporter": "python",
   "pygments_lexer": "ipython3",
   "version": "3.11.6"
  }
 },
 "nbformat": 4,
 "nbformat_minor": 2
}
