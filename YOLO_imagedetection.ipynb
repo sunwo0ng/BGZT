{
 "cells": [
  {
   "cell_type": "markdown",
   "metadata": {},
   "source": [
    "## XML 파일 텍스트 파일 변환"
   ]
  },
  {
   "cell_type": "code",
   "execution_count": 23,
   "metadata": {},
   "outputs": [],
   "source": [
    "import xml.etree.ElementTree as ET\n",
    "import os\n",
    "\n",
    "def convert_voc_to_yolo(xml_file, output_dir, class_mapping):\n",
    "    tree = ET.parse(xml_file)\n",
    "    root = tree.getroot()\n",
    "    \n",
    "    image_width = int(root.find('size/width').text)\n",
    "    image_height = int(root.find('size/height').text)\n",
    "\n",
    "    yolo_data = []\n",
    "\n",
    "    for obj in root.findall('object'):\n",
    "        class_name = obj.find('name').text\n",
    "        if class_name not in class_mapping:\n",
    "            continue\n",
    "        class_id = class_mapping[class_name]\n",
    "\n",
    "        bndbox = obj.find('bndbox')\n",
    "        xmin = int(bndbox.find('xmin').text)\n",
    "        ymin = int(bndbox.find('ymin').text)\n",
    "        xmax = int(bndbox.find('xmax').text)\n",
    "        ymax = int(bndbox.find('ymax').text)\n",
    "\n",
    "        x_center = (xmin + xmax) / 2.0 / image_width\n",
    "        y_center = (ymin + ymax) / 2.0 / image_height\n",
    "        width = (xmax - xmin) / image_width\n",
    "        height = (ymax - ymin) / image_height\n",
    "\n",
    "        yolo_data.append(f\"{class_id} {x_center} {y_center} {width} {height}\")\n",
    "\n",
    "    output_file = os.path.join(output_dir, os.path.basename(xml_file).replace('.xml', '.txt'))\n",
    "    with open(output_file, 'w') as f:\n",
    "        f.write('\\n'.join(yolo_data))\n",
    "\n",
    "def process_directory(input_dir, output_dir, class_mapping):\n",
    "    os.makedirs(output_dir, exist_ok=True)\n",
    "    for filename in os.listdir(input_dir):\n",
    "        if filename.endswith('.xml'):\n",
    "            convert_voc_to_yolo(os.path.join(input_dir, filename), output_dir, class_mapping)\n",
    "\n",
    "# 클래스 이름과 ID 매핑 (예시)\n",
    "class_mapping = {\n",
    "    'shoes': 0,\n",
    "}\n",
    "# 입력 XML 파일들이 있는 디렉토리\n",
    "input_dir = './yolov5/YOLO_labeling/Full_bounding_box/'\n",
    "\n",
    "# 출력 YOLO 형식 텍스트 파일이 저장될 디렉토리\n",
    "output_dir = './yolov5/YOLO_labeling/add/'\n",
    "\n",
    "# 디렉토리 내 모든 XML 파일을 변환\n",
    "process_directory(input_dir, output_dir, class_mapping)\n"
   ]
  },
  {
   "cell_type": "markdown",
   "metadata": {},
   "source": [
    "## 사진 옮기기"
   ]
  },
  {
   "cell_type": "code",
   "execution_count": 25,
   "metadata": {},
   "outputs": [
    {
     "name": "stdout",
     "output_type": "stream",
     "text": [
      "Moved ./yolov5/YOLO_labeling/img/02a5c5d1817ead804345502be08d7529_1.jpg to ./yolov5/YOLO_labeling/add_val_img/\n",
      "Moved ./yolov5/YOLO_labeling/img/02a5c5d1817ead804345502be08d7529_2.jpg to ./yolov5/YOLO_labeling/add_val_img/\n",
      "Moved ./yolov5/YOLO_labeling/img/02a5c5d1817ead804345502be08d7529_3.jpg to ./yolov5/YOLO_labeling/add_val_img/\n",
      "Moved ./yolov5/YOLO_labeling/img/02a5c5d1817ead804345502be08d7529_4.jpg to ./yolov5/YOLO_labeling/add_val_img/\n",
      "Moved ./yolov5/YOLO_labeling/img/02bf8d15e8509532055b5fc9e318873a_1.jpg to ./yolov5/YOLO_labeling/add_val_img/\n",
      "Moved ./yolov5/YOLO_labeling/img/02bf8d15e8509532055b5fc9e318873a_2.jpg to ./yolov5/YOLO_labeling/add_val_img/\n",
      "Moved ./yolov5/YOLO_labeling/img/02d9438678552e12722373b93450a63e_1.jpg to ./yolov5/YOLO_labeling/add_val_img/\n",
      "Moved ./yolov5/YOLO_labeling/img/02d9438678552e12722373b93450a63e_2.jpg to ./yolov5/YOLO_labeling/add_val_img/\n",
      "Moved ./yolov5/YOLO_labeling/img/02d9438678552e12722373b93450a63e_4.jpg to ./yolov5/YOLO_labeling/add_val_img/\n",
      "Moved ./yolov5/YOLO_labeling/img/02d9438678552e12722373b93450a63e_5.jpg to ./yolov5/YOLO_labeling/add_val_img/\n",
      "Moved ./yolov5/YOLO_labeling/img/02d9438678552e12722373b93450a63e_6.jpg to ./yolov5/YOLO_labeling/add_val_img/\n",
      "Moved ./yolov5/YOLO_labeling/img/1fbd3889e4d4cf462adc9012cbcfc29e_5.jpg to ./yolov5/YOLO_labeling/add_val_img/\n",
      "Moved ./yolov5/YOLO_labeling/img/1fbd3889e4d4cf462adc9012cbcfc29e_6.jpg to ./yolov5/YOLO_labeling/add_val_img/\n",
      "Moved ./yolov5/YOLO_labeling/img/2a3cf1caeb2ac59cc3ed3ca1afdc3f8c_1.jpg to ./yolov5/YOLO_labeling/add_val_img/\n",
      "Moved ./yolov5/YOLO_labeling/img/2a3cf1caeb2ac59cc3ed3ca1afdc3f8c_2.jpg to ./yolov5/YOLO_labeling/add_val_img/\n",
      "Moved ./yolov5/YOLO_labeling/img/2a3cf1caeb2ac59cc3ed3ca1afdc3f8c_3.jpg to ./yolov5/YOLO_labeling/add_val_img/\n",
      "Moved ./yolov5/YOLO_labeling/img/2ad57490f5382d485ec63ad686300414_1.jpg to ./yolov5/YOLO_labeling/add_val_img/\n",
      "Moved ./yolov5/YOLO_labeling/img/2ad57490f5382d485ec63ad686300414_3.jpg to ./yolov5/YOLO_labeling/add_val_img/\n",
      "Moved ./yolov5/YOLO_labeling/img/2b5cc1863634c193d91da9badc7618a3_1.jpg to ./yolov5/YOLO_labeling/add_val_img/\n",
      "Moved ./yolov5/YOLO_labeling/img/2b5cc1863634c193d91da9badc7618a3_2.jpg to ./yolov5/YOLO_labeling/add_val_img/\n",
      "Moved ./yolov5/YOLO_labeling/img/2b7786ab628ac35ac40ba87a5c613736_1.jpg to ./yolov5/YOLO_labeling/add_val_img/\n",
      "Moved ./yolov5/YOLO_labeling/img/2b7786ab628ac35ac40ba87a5c613736_2.jpg to ./yolov5/YOLO_labeling/add_val_img/\n",
      "Moved ./yolov5/YOLO_labeling/img/2c78cb90baeb8247e1ac5310b9ed66eb_1.jpg to ./yolov5/YOLO_labeling/add_val_img/\n",
      "Moved ./yolov5/YOLO_labeling/img/2c78cb90baeb8247e1ac5310b9ed66eb_2.jpg to ./yolov5/YOLO_labeling/add_val_img/\n",
      "Moved ./yolov5/YOLO_labeling/img/2c78cb90baeb8247e1ac5310b9ed66eb_3.jpg to ./yolov5/YOLO_labeling/add_val_img/\n",
      "Moved ./yolov5/YOLO_labeling/img/2c78cb90baeb8247e1ac5310b9ed66eb_4.jpg to ./yolov5/YOLO_labeling/add_val_img/\n",
      "Moved ./yolov5/YOLO_labeling/img/2d307a22189e52dd3d63c3548dcf4063_1.jpg to ./yolov5/YOLO_labeling/add_val_img/\n",
      "Moved ./yolov5/YOLO_labeling/img/2d307a22189e52dd3d63c3548dcf4063_2.jpg to ./yolov5/YOLO_labeling/add_val_img/\n",
      "Moved ./yolov5/YOLO_labeling/img/2d307a22189e52dd3d63c3548dcf4063_4.jpg to ./yolov5/YOLO_labeling/add_val_img/\n",
      "Moved ./yolov5/YOLO_labeling/img/2ddaf9f4ee02921e0bfaf2b683f3d3bd_1.jpg to ./yolov5/YOLO_labeling/add_val_img/\n",
      "Moved ./yolov5/YOLO_labeling/img/2ddaf9f4ee02921e0bfaf2b683f3d3bd_2.jpg to ./yolov5/YOLO_labeling/add_val_img/\n"
     ]
    }
   ],
   "source": [
    "import os\n",
    "import shutil\n",
    "\n",
    "# 라벨 파일이 있는 디렉토리 경로\n",
    "label_dir = './yolov5/YOLO_labeling/add_val/'\n",
    "\n",
    "# 이미지 파일이 있는 디렉토리 경로\n",
    "image_dir = './yolov5/YOLO_labeling/img/'\n",
    "\n",
    "# 이미지를 옮길 대상 디렉토리 경로\n",
    "train_dir = './yolov5/YOLO_labeling/add_val_img/'\n",
    "\n",
    "# 확장자 설정 (필요에 따라 추가)\n",
    "image_extensions = ['.jpg', '.jpeg', '.png']\n",
    "\n",
    "# train 폴더가 없다면 생성\n",
    "os.makedirs(train_dir, exist_ok=True)\n",
    "\n",
    "# 라벨 파일들을 순회\n",
    "for label_file in os.listdir(label_dir):\n",
    "    if label_file.endswith('.txt'):\n",
    "        # 라벨 파일명에서 확장자를 제거하여 이미지 파일명 생성\n",
    "        image_name = os.path.splitext(label_file)[0]\n",
    "        \n",
    "        # 이미지 파일이 있는지 확인하고 있으면 이동\n",
    "        for ext in image_extensions:\n",
    "            image_path = os.path.join(image_dir, image_name + ext)\n",
    "            if os.path.exists(image_path):\n",
    "                shutil.move(image_path, train_dir)\n",
    "                print(f'Moved {image_path} to {train_dir}')\n",
    "                break  # 이미지를 찾으면 다른 확장자 탐색 중지\n"
   ]
  },
  {
   "cell_type": "code",
   "execution_count": 11,
   "metadata": {},
   "outputs": [
    {
     "name": "stdout",
     "output_type": "stream",
     "text": [
      "Created empty label file: C:/Users/sunwoong/Desktop/연구실/번개장터/Image/yolov5/Dataset2/Image/val/labels/11e7cb4ab37d4f853aedb2523ecc2af6_2.txt\n",
      "Created empty label file: C:/Users/sunwoong/Desktop/연구실/번개장터/Image/yolov5/Dataset2/Image/val/labels/44f77f4b701aebd6b67b720aa200ba4a_5.txt\n",
      "Created empty label file: C:/Users/sunwoong/Desktop/연구실/번개장터/Image/yolov5/Dataset2/Image/val/labels/50e71bb1edd26632950ad6eb5eceb02a_5.txt\n",
      "Created empty label file: C:/Users/sunwoong/Desktop/연구실/번개장터/Image/yolov5/Dataset2/Image/val/labels/50e71bb1edd26632950ad6eb5eceb02a_6.txt\n",
      "Created empty label file: C:/Users/sunwoong/Desktop/연구실/번개장터/Image/yolov5/Dataset2/Image/val/labels/55cd4619d58a8b9c9540dc689d944f7d_2.txt\n",
      "Created empty label file: C:/Users/sunwoong/Desktop/연구실/번개장터/Image/yolov5/Dataset2/Image/val/labels/57bc05be1b6021667567022dbc799ba2_6.txt\n",
      "Created empty label file: C:/Users/sunwoong/Desktop/연구실/번개장터/Image/yolov5/Dataset2/Image/val/labels/57dcc2c30a3aaeb43cf5a434b42bcfe4_9.txt\n",
      "Created empty label file: C:/Users/sunwoong/Desktop/연구실/번개장터/Image/yolov5/Dataset2/Image/val/labels/8f5ef15e7c7de8226c156df5163df50c_3.txt\n",
      "Created empty label file: C:/Users/sunwoong/Desktop/연구실/번개장터/Image/yolov5/Dataset2/Image/val/labels/8f8813acf8d034aa1b10f4dbb3d10334_2.txt\n",
      "Created empty label file: C:/Users/sunwoong/Desktop/연구실/번개장터/Image/yolov5/Dataset2/Image/val/labels/8f8813acf8d034aa1b10f4dbb3d10334_4.txt\n",
      "Created empty label file: C:/Users/sunwoong/Desktop/연구실/번개장터/Image/yolov5/Dataset2/Image/val/labels/9c2ca9dc22d2559d232d1d8bad636111_5.txt\n",
      "Created empty label file: C:/Users/sunwoong/Desktop/연구실/번개장터/Image/yolov5/Dataset2/Image/val/labels/9c353951fa382f1008968bc25619849a_2.txt\n",
      "Created empty label file: C:/Users/sunwoong/Desktop/연구실/번개장터/Image/yolov5/Dataset2/Image/val/labels/9c353951fa382f1008968bc25619849a_4.txt\n",
      "Created empty label file: C:/Users/sunwoong/Desktop/연구실/번개장터/Image/yolov5/Dataset2/Image/val/labels/9c353951fa382f1008968bc25619849a_5.txt\n",
      "Created empty label file: C:/Users/sunwoong/Desktop/연구실/번개장터/Image/yolov5/Dataset2/Image/val/labels/9d102d7cb403e706afd72802c569c4f6_4.txt\n",
      "Created empty label file: C:/Users/sunwoong/Desktop/연구실/번개장터/Image/yolov5/Dataset2/Image/val/labels/9fb07d9703c49d2529a2505184f09812_2.txt\n"
     ]
    }
   ],
   "source": [
    "import os\n",
    "\n",
    "# 이미지와 라벨 파일이 위치한 디렉토리 설정\n",
    "image_dir = 'C:/Users/sunwoong/Desktop/연구실/번개장터/Image/yolov5/Dataset2/Image/val/images/'\n",
    "label_dir = 'C:/Users/sunwoong/Desktop/연구실/번개장터/Image/yolov5/Dataset2/Image/val/labels/'\n",
    "\n",
    "# 이미지 확장자 설정\n",
    "image_extensions = ['.jpg', '.jpeg', '.png']\n",
    "\n",
    "# 모든 이미지 파일에 대해 대응되는 라벨 파일이 있는지 확인\n",
    "for image_file in os.listdir(image_dir):\n",
    "    if any(image_file.endswith(ext) for ext in image_extensions):\n",
    "        label_file = os.path.splitext(image_file)[0] + '.txt'\n",
    "        label_path = os.path.join(label_dir, label_file)\n",
    "        \n",
    "        # 라벨 파일이 존재하지 않으면 빈 파일 생성\n",
    "        if not os.path.exists(label_path):\n",
    "            with open(label_path, 'w') as f:\n",
    "                pass  # 빈 파일 생성\n",
    "            print(f'Created empty label file: {label_path}')\n"
   ]
  },
  {
   "cell_type": "markdown",
   "metadata": {},
   "source": [
    "## 학습 데이터 준비"
   ]
  },
  {
   "cell_type": "code",
   "execution_count": 26,
   "metadata": {},
   "outputs": [],
   "source": [
    "data_yaml = \"\"\"\n",
    "train: ./Dataset_final/Image/train/images/\n",
    "val: ./Dataset_final/Image/val/images/\n",
    "\n",
    "nc: 1\n",
    "names: ['shoes']\n",
    "\"\"\"\n",
    "\n",
    "with open('shoes_final.yaml', 'w') as file:\n",
    "    file.write(data_yaml)\n"
   ]
  },
  {
   "cell_type": "code",
   "execution_count": null,
   "metadata": {},
   "outputs": [],
   "source": []
  },
  {
   "cell_type": "code",
   "execution_count": 29,
   "metadata": {},
   "outputs": [
    {
     "name": "stderr",
     "output_type": "stream",
     "text": [
      "YOLOv5  v7.0-350-g6096750f Python-3.11.6 torch-2.3.1+cu121 CUDA:0 (NVIDIA GeForce RTX 4070, 12282MiB)\n",
      "\n",
      "Fusing layers... \n",
      "YOLOv5s summary: 157 layers, 7012822 parameters, 0 gradients, 15.8 GFLOPs\n",
      "image 1/24 C:\\Users\\sunwoong\\Desktop\\\\\\Image\\yolov5\\full_test\\01511419fe76796d53984351b2237017_3.jpg: 640x480 1 shoes, 32.0ms\n",
      "image 2/24 C:\\Users\\sunwoong\\Desktop\\\\\\Image\\yolov5\\full_test\\01511419fe76796d53984351b2237017_4.jpg: 640x480 1 shoes, 5.0ms\n",
      "image 3/24 C:\\Users\\sunwoong\\Desktop\\\\\\Image\\yolov5\\full_test\\0174876d0cdeb93e2492fd0445841dba_1.jpg: 640x640 1 shoes, 5.4ms\n",
      "image 4/24 C:\\Users\\sunwoong\\Desktop\\\\\\Image\\yolov5\\full_test\\0174876d0cdeb93e2492fd0445841dba_2.jpg: 640x640 (no detections), 4.2ms\n",
      "image 5/24 C:\\Users\\sunwoong\\Desktop\\\\\\Image\\yolov5\\full_test\\0835139b1862d3aa9c58f3f3232f22f2_1.jpg: 480x640 1 shoes, 4.0ms\n",
      "image 6/24 C:\\Users\\sunwoong\\Desktop\\\\\\Image\\yolov5\\full_test\\0835139b1862d3aa9c58f3f3232f22f2_2.jpg: 480x640 3 shoess, 3.0ms\n",
      "image 7/24 C:\\Users\\sunwoong\\Desktop\\\\\\Image\\yolov5\\full_test\\0835139b1862d3aa9c58f3f3232f22f2_3.jpg: 480x640 2 shoess, 3.0ms\n",
      "image 8/24 C:\\Users\\sunwoong\\Desktop\\\\\\Image\\yolov5\\full_test\\0835139b1862d3aa9c58f3f3232f22f2_5.jpg: 480x640 1 shoes, 3.0ms\n",
      "image 9/24 C:\\Users\\sunwoong\\Desktop\\\\\\Image\\yolov5\\full_test\\2773890d0b57005ae9b62f45a4ae69d9_1.jpg: 480x640 1 shoes, 3.0ms\n",
      "image 10/24 C:\\Users\\sunwoong\\Desktop\\\\\\Image\\yolov5\\full_test\\436064a968ffccf887a6f331485f1e3b_1.jpg: 640x480 1 shoes, 3.7ms\n",
      "image 11/24 C:\\Users\\sunwoong\\Desktop\\\\\\Image\\yolov5\\full_test\\436064a968ffccf887a6f331485f1e3b_4.jpg: 640x480 1 shoes, 3.0ms\n",
      "image 12/24 C:\\Users\\sunwoong\\Desktop\\\\\\Image\\yolov5\\full_test\\622927fb5c34764355ca48e68d2ed7f0_1.jpg: 640x480 2 shoess, 4.0ms\n",
      "image 13/24 C:\\Users\\sunwoong\\Desktop\\\\\\Image\\yolov5\\full_test\\622927fb5c34764355ca48e68d2ed7f0_3.jpg: 640x480 2 shoess, 3.0ms\n",
      "image 14/24 C:\\Users\\sunwoong\\Desktop\\\\\\Image\\yolov5\\full_test\\837888f86a152a457e1bfacdc6ead1f7_1.jpg: 640x608 1 shoes, 3.5ms\n",
      "image 15/24 C:\\Users\\sunwoong\\Desktop\\\\\\Image\\yolov5\\full_test\\837888f86a152a457e1bfacdc6ead1f7_4.jpg: 640x640 1 shoes, 3.0ms\n",
      "image 16/24 C:\\Users\\sunwoong\\Desktop\\\\\\Image\\yolov5\\full_test\\837888f86a152a457e1bfacdc6ead1f7_6.jpg: 640x480 1 shoes, 3.5ms\n",
      "image 17/24 C:\\Users\\sunwoong\\Desktop\\\\\\Image\\yolov5\\full_test\\8843435ba249eda0d211b860b1eb213a_1.jpg: 640x640 1 shoes, 3.0ms\n",
      "image 18/24 C:\\Users\\sunwoong\\Desktop\\\\\\Image\\yolov5\\full_test\\8843435ba249eda0d211b860b1eb213a_2.jpg: 640x640 1 shoes, 3.0ms\n",
      "image 19/24 C:\\Users\\sunwoong\\Desktop\\\\\\Image\\yolov5\\full_test\\8843435ba249eda0d211b860b1eb213a_5.jpg: 640x640 3 shoess, 3.0ms\n",
      "image 20/24 C:\\Users\\sunwoong\\Desktop\\\\\\Image\\yolov5\\full_test\\8843435ba249eda0d211b860b1eb213a_6.jpg: 640x640 2 shoess, 3.0ms\n",
      "image 21/24 C:\\Users\\sunwoong\\Desktop\\\\\\Image\\yolov5\\full_test\\97825eca75c261b248607290a06a3c3e_2.jpg: 640x480 1 shoes, 3.0ms\n",
      "image 22/24 C:\\Users\\sunwoong\\Desktop\\\\\\Image\\yolov5\\full_test\\97825eca75c261b248607290a06a3c3e_3.jpg: 480x640 1 shoes, 4.0ms\n",
      "image 23/24 C:\\Users\\sunwoong\\Desktop\\\\\\Image\\yolov5\\full_test\\97825eca75c261b248607290a06a3c3e_4.jpg: 480x640 1 shoes, 3.0ms\n",
      "image 24/24 C:\\Users\\sunwoong\\Desktop\\\\\\Image\\yolov5\\full_test\\97825eca75c261b248607290a06a3c3e_6.jpg: 480x640 (no detections), 3.0ms\n",
      "Speed: 0.2ms pre-process, 4.6ms inference, 0.7ms NMS per image at shape (1, 3, 640, 640)\n",
      "Results saved to \u001b[1myolov5\\runs\\detect\\exp6\u001b[0m\n"
     ]
    }
   ],
   "source": [
    "import os\n",
    "from yolov5 import detect  # YOLOv5가 설치된 디렉토리에서 'detect.py' 가져오기\n",
    "\n",
    "# 가중치 파일 경로\n",
    "weights_path = 'C:/Users/sunwoong/Desktop/연구실/번개장터/Image/yolov5/runs/train/Integrated_full/weights/best.pt'\n",
    "\n",
    "\n",
    "# 처리할 이미지나 비디오가 있는 디렉토리 경로\n",
    "source_path = 'C:/Users/sunwoong/Desktop/연구실/번개장터/Image/yolov5/full_test'\n",
    "\n",
    "# 이미지 크기 설정\n",
    "imgsz = (640,640)\n",
    "\n",
    "# YOLOv5 탐지 함수 호출\n",
    "detect.run(weights=weights_path, imgsz=imgsz, source=source_path)\n"
   ]
  },
  {
   "cell_type": "code",
   "execution_count": null,
   "metadata": {},
   "outputs": [],
   "source": [
    "#학습\n",
    "python train.py --img 640 --batch 16 --epochs 50 --data shoes.yaml --cfg yolov5s.yaml --weights yolov5s.pt --name \"C:/Users/sunwoong/Desktop/연구실/번개장터/Image/yolov5/runs/train/new_shoes_model\" --hyp hyp.scratch-low.yaml\n"
   ]
  },
  {
   "cell_type": "code",
   "execution_count": null,
   "metadata": {},
   "outputs": [],
   "source": [
    "#평가\n",
    "python val.py --weights runs/train/shoes_model/weights/best.pt --data shoes.yaml --img 640\n"
   ]
  },
  {
   "cell_type": "code",
   "execution_count": null,
   "metadata": {},
   "outputs": [],
   "source": [
    "# 새로운 이미지 탐지\n",
    "python detect.py --weights runs/train/new_full/weights/best.pt --img 640 --source /path_to_images_or_video\n"
   ]
  },
  {
   "cell_type": "code",
   "execution_count": null,
   "metadata": {},
   "outputs": [],
   "source": [
    "#학습\n",
    "python train.py --img 640 --batch 16 --epochs 50 --data shoes_final.yaml --cfg yolov5s.yaml --weights yolov5s.pt --name \"C:/Users/sunwoong/Desktop/연구실/번개장터/Image/yolov5/runs/train/Integrated_full\" --hyp hyp.scratch-low.yaml\n"
   ]
  }
 ],
 "metadata": {
  "kernelspec": {
   "display_name": "Python 3",
   "language": "python",
   "name": "python3"
  },
  "language_info": {
   "codemirror_mode": {
    "name": "ipython",
    "version": 3
   },
   "file_extension": ".py",
   "mimetype": "text/x-python",
   "name": "python",
   "nbconvert_exporter": "python",
   "pygments_lexer": "ipython3",
   "version": "3.11.6"
  }
 },
 "nbformat": 4,
 "nbformat_minor": 2
}
