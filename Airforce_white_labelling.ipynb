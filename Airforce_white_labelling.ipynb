{
 "cells": [
  {
   "cell_type": "code",
   "execution_count": 2,
   "metadata": {},
   "outputs": [],
   "source": [
    "import torch\n",
    "import torchvision.models as models\n",
    "import torch.nn as nn\n",
    "from PIL import Image\n",
    "import torchvision.transforms as transforms\n",
    "import os\n",
    "import pandas as pd\n",
    "\n",
    "# GPU 설정\n",
    "device = torch.device(\"cuda\" if torch.cuda.is_available() else \"cpu\")\n",
    "\n",
    "# Pretrained ResNet18 모델 불러오기\n",
    "model = models.resnet18(pretrained=False)\n",
    "num_features = model.fc.in_features\n",
    "model.fc = nn.Linear(num_features, 2)\n",
    "\n",
    "# 저장된 모델 상태 로드\n",
    "model.load_state_dict(torch.load('resnet18_shoes_classifier.pth'))\n",
    "\n",
    "# 모델을 GPU로 전송\n",
    "model = model.to(device)\n",
    "model.eval()\n",
    "\n",
    "# 이미지 전처리 함수 정의\n",
    "def preprocess_image(image_path):\n",
    "    transform = transforms.Compose([\n",
    "        transforms.Resize((224, 224)),\n",
    "        transforms.ToTensor(),\n",
    "        transforms.Normalize((0.485, 0.456, 0.406), (0.229, 0.224, 0.225))  # ImageNet 정규화 값\n",
    "    ])\n",
    "    image = Image.open(image_path).convert('RGB')\n",
    "    image = transform(image).unsqueeze(0)  # 배치 차원을 추가\n",
    "    return image\n",
    "\n",
    "# 클래스 라벨\n",
    "class_labels = ['etc', 'full']\n",
    "\n",
    "# 이미지 폴더 경로\n",
    "image_folder_path = './Airforce_white'\n",
    "\n",
    "# 예측 결과 저장할 리스트 초기화\n",
    "results = []\n",
    "# 폴더 내 모든 이미지에 대해 예측 수행\n",
    "for image_name in os.listdir(image_folder_path):\n",
    "    image_path = os.path.join(image_folder_path, image_name)\n",
    "    if image_path.endswith(('.png', '.jpg', '.jpeg', '.bmp', '.tiff', '.gif')):\n",
    "        image = preprocess_image(image_path)\n",
    "        image = image.to(device)\n",
    "        \n",
    "        # 예측 수행\n",
    "        with torch.no_grad():\n",
    "            outputs = model(image)\n",
    "            _, predicted = torch.max(outputs, 1)\n",
    "        \n",
    "        # 예측된 라벨 저장\n",
    "        predicted_class = class_labels[predicted.item()]\n",
    "        results.append({'file_name': image_name, 'label': predicted_class})\n",
    "\n",
    "# 결과를 DataFrame으로 변환\n",
    "df = pd.DataFrame(results)\n",
    "\n",
    "# CSV 파일로 저장\n",
    "df.to_csv('airforce_white_labels.csv', index=False)\n"
   ]
  },
  {
   "cell_type": "code",
   "execution_count": null,
   "metadata": {},
   "outputs": [],
   "source": [
    "import numpy as np\n",
    "import pandas as pd\n",
    "from tqdm import tqdm\n",
    "from itertools import product\n",
    "import datetime\n",
    "import matplotlib.pyplot as plt\n",
    "import collections as cc\n",
    "import seaborn as sns\n",
    "from collections import Counter\n",
    "import re\n",
    "from bs4 import BeautifulSoup\n",
    "from konlpy.tag import Okt\n",
    "\n",
    "\n",
    "data1_dir = \"../data1.csv\"\n",
    "data2_dir = \"../data2.csv\"\n",
    "data3_dir = \"../data3.csv\"\n",
    "data4_dir = \"../data4.csv\"\n",
    "### 전처리 완료 후 에어포스에 대해서 처리한 데이터 -> processed_data\n",
    "data_dir='../Airfocre_tot.csv'\n",
    "label_dir='../airforce_white_labels.csv'"
   ]
  },
  {
   "cell_type": "code",
   "execution_count": 3,
   "metadata": {},
   "outputs": [
    {
     "name": "stdout",
     "output_type": "stream",
     "text": [
      "이미지가 라벨에 따라 분류되었습니다.\n"
     ]
    }
   ],
   "source": [
    "import os\n",
    "import shutil\n",
    "import pandas as pd\n",
    "\n",
    "# CSV 파일 로드\n",
    "csv_file_path = 'airforce_white_labels.csv'\n",
    "df = pd.read_csv(csv_file_path)\n",
    "\n",
    "# 이미지 폴더 경로\n",
    "image_folder_path = './Airforce_white'\n",
    "\n",
    "# Full 및 etc 폴더 생성\n",
    "full_folder = os.path.join(image_folder_path, 'Full')\n",
    "etc_folder = os.path.join(image_folder_path, 'etc')\n",
    "\n",
    "os.makedirs(full_folder, exist_ok=True)\n",
    "os.makedirs(etc_folder, exist_ok=True)\n",
    "\n",
    "# CSV 파일에 따라 이미지 분류\n",
    "for index, row in df.iterrows():\n",
    "    image_name = row['file_name']\n",
    "    label = row['label']\n",
    "    \n",
    "    src_path = os.path.join(image_folder_path, image_name)\n",
    "    \n",
    "    if label == 'full':\n",
    "        dest_path = os.path.join(full_folder, image_name)\n",
    "    elif label == 'etc':\n",
    "        dest_path = os.path.join(etc_folder, image_name)\n",
    "    else:\n",
    "        continue\n",
    "    \n",
    "    # 이미지 이동\n",
    "    shutil.move(src_path, dest_path)\n",
    "\n",
    "print('이미지가 라벨에 따라 분류되었습니다.')\n"
   ]
  },
  {
   "cell_type": "code",
   "execution_count": 5,
   "metadata": {},
   "outputs": [],
   "source": [
    "data_dir = \"./Airforce_white_fullimage_score.csv\""
   ]
  },
  {
   "cell_type": "code",
   "execution_count": 6,
   "metadata": {},
   "outputs": [],
   "source": [
    "df = pd.read_csv(data_dir)\n"
   ]
  },
  {
   "cell_type": "code",
   "execution_count": 8,
   "metadata": {},
   "outputs": [
    {
     "data": {
      "text/plain": [
       "Unnamed: 0    01511419fe76796d53984351b2237017_2.jpg\n",
       "Score                                       0.236543\n",
       "dtype: object"
      ]
     },
     "execution_count": 8,
     "metadata": {},
     "output_type": "execute_result"
    }
   ],
   "source": [
    "df.min()"
   ]
  },
  {
   "cell_type": "code",
   "execution_count": 9,
   "metadata": {},
   "outputs": [
    {
     "ename": "ModuleNotFoundError",
     "evalue": "No module named 'mrcnn'",
     "output_type": "error",
     "traceback": [
      "\u001b[1;31m---------------------------------------------------------------------------\u001b[0m",
      "\u001b[1;31mModuleNotFoundError\u001b[0m                       Traceback (most recent call last)",
      "Cell \u001b[1;32mIn[9], line 1\u001b[0m\n\u001b[1;32m----> 1\u001b[0m \u001b[38;5;28;01mimport\u001b[39;00m \u001b[38;5;21;01mmrcnn\u001b[39;00m\u001b[38;5;21;01m.\u001b[39;00m\u001b[38;5;21;01mmodel\u001b[39;00m \u001b[38;5;28;01mas\u001b[39;00m \u001b[38;5;21;01mmodellib\u001b[39;00m\n\u001b[0;32m      2\u001b[0m \u001b[38;5;28;01mfrom\u001b[39;00m \u001b[38;5;21;01mmrcnn\u001b[39;00m \u001b[38;5;28;01mimport\u001b[39;00m visualize\n",
      "\u001b[1;31mModuleNotFoundError\u001b[0m: No module named 'mrcnn'"
     ]
    }
   ],
   "source": [
    "import mrcnn.model as modellib\n",
    "from mrcnn import visualize"
   ]
  },
  {
   "cell_type": "code",
   "execution_count": 1,
   "metadata": {},
   "outputs": [
    {
     "name": "stdout",
     "output_type": "stream",
     "text": [
      "WARNING:tensorflow:From c:\\Users\\sunwoong\\AppData\\Local\\Programs\\Python\\Python311\\Lib\\site-packages\\keras\\src\\losses.py:2976: The name tf.losses.sparse_softmax_cross_entropy is deprecated. Please use tf.compat.v1.losses.sparse_softmax_cross_entropy instead.\n",
      "\n"
     ]
    },
    {
     "ename": "ModuleNotFoundError",
     "evalue": "No module named 'mrcnn'",
     "output_type": "error",
     "traceback": [
      "\u001b[1;31m---------------------------------------------------------------------------\u001b[0m",
      "\u001b[1;31mModuleNotFoundError\u001b[0m                       Traceback (most recent call last)",
      "Cell \u001b[1;32mIn[1], line 6\u001b[0m\n\u001b[0;32m      4\u001b[0m \u001b[38;5;28;01mimport\u001b[39;00m \u001b[38;5;21;01mtensorflow\u001b[39;00m \u001b[38;5;28;01mas\u001b[39;00m \u001b[38;5;21;01mtf\u001b[39;00m\n\u001b[0;32m      5\u001b[0m \u001b[38;5;28;01mfrom\u001b[39;00m \u001b[38;5;21;01mtensorflow\u001b[39;00m \u001b[38;5;28;01mimport\u001b[39;00m keras\n\u001b[1;32m----> 6\u001b[0m \u001b[38;5;28;01mimport\u001b[39;00m \u001b[38;5;21;01mmrcnn\u001b[39;00m\u001b[38;5;21;01m.\u001b[39;00m\u001b[38;5;21;01mmodel\u001b[39;00m \u001b[38;5;28;01mas\u001b[39;00m \u001b[38;5;21;01mmodellib\u001b[39;00m\n\u001b[0;32m      7\u001b[0m \u001b[38;5;28;01mfrom\u001b[39;00m \u001b[38;5;21;01mmrcnn\u001b[39;00m \u001b[38;5;28;01mimport\u001b[39;00m visualize\n\u001b[0;32m      8\u001b[0m \u001b[38;5;28;01mfrom\u001b[39;00m \u001b[38;5;21;01mmrcnn\u001b[39;00m\u001b[38;5;21;01m.\u001b[39;00m\u001b[38;5;21;01mconfig\u001b[39;00m \u001b[38;5;28;01mimport\u001b[39;00m Config\n",
      "\u001b[1;31mModuleNotFoundError\u001b[0m: No module named 'mrcnn'"
     ]
    }
   ],
   "source": [
    "import os\n",
    "import numpy as np\n",
    "import skimage.io\n",
    "import tensorflow as tf\n",
    "from tensorflow import keras\n",
    "import mrcnn.model as modellib\n",
    "from mrcnn import visualize\n",
    "from mrcnn.config import Config\n",
    "\n",
    "# Mask R-CNN 설정\n",
    "class InferenceConfig(Config):\n",
    "    NAME = \"shoes_detection\"\n",
    "    NUM_CLASSES = 1 + 1  # Background + 신발 클래스\n",
    "    GPU_COUNT = 1\n",
    "    IMAGES_PER_GPU = 1\n",
    "    DETECTION_MIN_CONFIDENCE = 0.6  # 최소 신뢰도\n",
    "\n",
    "config = InferenceConfig()\n",
    "\n",
    "# 모델 디렉터리와 가중치 파일 경로\n",
    "MODEL_DIR = \"logs\"\n",
    "WEIGHTS_PATH = \"path_to_trained_weights.h5\"  # 훈련된 가중치 파일 경로\n",
    "\n",
    "# Mask R-CNN 모델 초기화\n",
    "model = modellib.MaskRCNN(mode=\"inference\", model_dir=MODEL_DIR, config=config)\n",
    "\n",
    "# 가중치 로드\n",
    "model.load_weights(WEIGHTS_PATH, by_name=True)\n",
    "\n",
    "# 이미지 로드\n",
    "image = skimage.io.imread('path_to_image')\n",
    "\n",
    "# 이미지에서 객체 감지\n",
    "results = model.detect([image], verbose=1)\n",
    "\n",
    "# 결과 시각화\n",
    "r = results[0]\n",
    "visualize.display_instances(image, r['rois'], r['masks'], r['class_ids'], \n",
    "                            ['BG', 'shoe'], r['scores'])\n"
   ]
  },
  {
   "cell_type": "code",
   "execution_count": 4,
   "metadata": {},
   "outputs": [
    {
     "ename": "ModuleNotFoundError",
     "evalue": "No module named 'keras.engine'",
     "output_type": "error",
     "traceback": [
      "\u001b[1;31m---------------------------------------------------------------------------\u001b[0m",
      "\u001b[1;31mModuleNotFoundError\u001b[0m                       Traceback (most recent call last)",
      "Cell \u001b[1;32mIn[4], line 5\u001b[0m\n\u001b[0;32m      3\u001b[0m \u001b[38;5;28;01mimport\u001b[39;00m \u001b[38;5;21;01mskimage\u001b[39;00m\u001b[38;5;21;01m.\u001b[39;00m\u001b[38;5;21;01mio\u001b[39;00m\n\u001b[0;32m      4\u001b[0m \u001b[38;5;28;01mimport\u001b[39;00m \u001b[38;5;21;01mtensorflow\u001b[39;00m \u001b[38;5;28;01mas\u001b[39;00m \u001b[38;5;21;01mtf\u001b[39;00m\n\u001b[1;32m----> 5\u001b[0m \u001b[38;5;28;01mimport\u001b[39;00m \u001b[38;5;21;01mmrcnn\u001b[39;00m\u001b[38;5;21;01m.\u001b[39;00m\u001b[38;5;21;01mmodel\u001b[39;00m \u001b[38;5;28;01mas\u001b[39;00m \u001b[38;5;21;01mmodellib\u001b[39;00m\n\u001b[0;32m      6\u001b[0m \u001b[38;5;28;01mfrom\u001b[39;00m \u001b[38;5;21;01mmrcnn\u001b[39;00m \u001b[38;5;28;01mimport\u001b[39;00m visualize\n\u001b[0;32m      7\u001b[0m \u001b[38;5;28;01mfrom\u001b[39;00m \u001b[38;5;21;01mmrcnn\u001b[39;00m\u001b[38;5;21;01m.\u001b[39;00m\u001b[38;5;21;01mconfig\u001b[39;00m \u001b[38;5;28;01mimport\u001b[39;00m Config\n",
      "File \u001b[1;32mc:\\Users\\sunwoong\\AppData\\Local\\Programs\\Python\\Python311\\Lib\\site-packages\\mrcnn\\model.py:23\u001b[0m\n\u001b[0;32m     21\u001b[0m \u001b[38;5;28;01mimport\u001b[39;00m \u001b[38;5;21;01mkeras\u001b[39;00m\u001b[38;5;21;01m.\u001b[39;00m\u001b[38;5;21;01mbackend\u001b[39;00m \u001b[38;5;28;01mas\u001b[39;00m \u001b[38;5;21;01mK\u001b[39;00m\n\u001b[0;32m     22\u001b[0m \u001b[38;5;28;01mimport\u001b[39;00m \u001b[38;5;21;01mkeras\u001b[39;00m\u001b[38;5;21;01m.\u001b[39;00m\u001b[38;5;21;01mlayers\u001b[39;00m \u001b[38;5;28;01mas\u001b[39;00m \u001b[38;5;21;01mKL\u001b[39;00m\n\u001b[1;32m---> 23\u001b[0m \u001b[38;5;28;01mimport\u001b[39;00m \u001b[38;5;21;01mkeras\u001b[39;00m\u001b[38;5;21;01m.\u001b[39;00m\u001b[38;5;21;01mengine\u001b[39;00m \u001b[38;5;28;01mas\u001b[39;00m \u001b[38;5;21;01mKE\u001b[39;00m\n\u001b[0;32m     24\u001b[0m \u001b[38;5;28;01mimport\u001b[39;00m \u001b[38;5;21;01mkeras\u001b[39;00m\u001b[38;5;21;01m.\u001b[39;00m\u001b[38;5;21;01mmodels\u001b[39;00m \u001b[38;5;28;01mas\u001b[39;00m \u001b[38;5;21;01mKM\u001b[39;00m\n\u001b[0;32m     26\u001b[0m \u001b[38;5;28;01mfrom\u001b[39;00m \u001b[38;5;21;01mmrcnn\u001b[39;00m \u001b[38;5;28;01mimport\u001b[39;00m utils\n",
      "\u001b[1;31mModuleNotFoundError\u001b[0m: No module named 'keras.engine'"
     ]
    }
   ],
   "source": [
    "import os\n",
    "import numpy as np\n",
    "import skimage.io\n",
    "import tensorflow as tf\n",
    "import mrcnn.model as modellib\n",
    "from mrcnn import visualize\n",
    "from mrcnn.config import Config\n",
    "\n",
    "# Mask R-CNN 설정\n",
    "class InferenceConfig(Config):\n",
    "    NAME = \"shoes_detection\"\n",
    "    NUM_CLASSES = 1 + 1  # Background + 신발 클래스\n",
    "    GPU_COUNT = 1\n",
    "    IMAGES_PER_GPU = 1\n",
    "    DETECTION_MIN_CONFIDENCE = 0.6  # 최소 신뢰도\n",
    "\n",
    "config = InferenceConfig()\n",
    "\n",
    "# 모델 디렉터리와 가중치 파일 경로\n",
    "MODEL_DIR = \"logs\"\n",
    "WEIGHTS_PATH = \"path_to_trained_weights.h5\"  # 훈련된 가중치 파일 경로\n",
    "\n",
    "# Mask R-CNN 모델 초기화\n",
    "model = modellib.MaskRCNN(mode=\"inference\", model_dir=MODEL_DIR, config=config)\n",
    "\n",
    "# 가중치 로드\n",
    "model.load_weights(WEIGHTS_PATH, by_name=True)\n",
    "\n",
    "# 이미지 로드\n",
    "image = skimage.io.imread('path_to_image')\n",
    "\n",
    "# 이미지에서 객체 감지\n",
    "results = model.detect([image], verbose=1)\n",
    "\n",
    "# 결과 시각화\n",
    "r = results[0]\n",
    "visualize.display_instances(image, r['rois'], r['masks'], r['class_ids'], \n",
    "                            ['BG', 'shoe'], r['scores'])\n"
   ]
  },
  {
   "cell_type": "code",
   "execution_count": null,
   "metadata": {},
   "outputs": [],
   "source": []
  }
 ],
 "metadata": {
  "kernelspec": {
   "display_name": "Python 3",
   "language": "python",
   "name": "python3"
  },
  "language_info": {
   "codemirror_mode": {
    "name": "ipython",
    "version": 3
   },
   "file_extension": ".py",
   "mimetype": "text/x-python",
   "name": "python",
   "nbconvert_exporter": "python",
   "pygments_lexer": "ipython3",
   "version": "3.11.6"
  }
 },
 "nbformat": 4,
 "nbformat_minor": 2
}
