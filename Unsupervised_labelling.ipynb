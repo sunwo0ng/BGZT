{
 "cells": [
  {
   "cell_type": "code",
   "execution_count": 1,
   "metadata": {},
   "outputs": [
    {
     "name": "stdout",
     "output_type": "stream",
     "text": [
      "WARNING:tensorflow:From c:\\Users\\sunwoong\\AppData\\Local\\Programs\\Python\\Python311\\Lib\\site-packages\\keras\\src\\losses.py:2976: The name tf.losses.sparse_softmax_cross_entropy is deprecated. Please use tf.compat.v1.losses.sparse_softmax_cross_entropy instead.\n",
      "\n"
     ]
    }
   ],
   "source": [
    "import tensorflow as tf\n",
    "from tensorflow.keras.layers import Input, Dense, Conv2D, MaxPooling2D, UpSampling2D\n",
    "from tensorflow.keras.models import Model\n",
    "from tensorflow.keras.preprocessing.image import ImageDataGenerator\n",
    "import numpy as np\n",
    "from sklearn.cluster import KMeans\n",
    "import matplotlib.pyplot as plt\n",
    "from sklearn.decomposition import PCA\n"
   ]
  },
  {
   "cell_type": "code",
   "execution_count": 2,
   "metadata": {},
   "outputs": [
    {
     "name": "stdout",
     "output_type": "stream",
     "text": [
      "Found 960 images belonging to 3 classes.\n",
      "(32, 64, 64, 3)\n"
     ]
    }
   ],
   "source": [
    "dataset_dir = './AIRFORCE_classification'\n",
    "# 이미지 전처리\n",
    "# 이미지 전처리\n",
    "datagen = ImageDataGenerator(rescale=1./255)\n",
    "data_generator = datagen.flow_from_directory(\n",
    "    directory=dataset_dir,\n",
    "    target_size=(64, 64),\n",
    "    batch_size=32,\n",
    "    class_mode=None,\n",
    "    shuffle=False\n",
    ")\n",
    "for data_batch in data_generator:\n",
    "    print(data_batch.shape)\n",
    "    break  # 첫 번째 배치만 출력하고 중지"
   ]
  },
  {
   "cell_type": "code",
   "execution_count": 3,
   "metadata": {},
   "outputs": [
    {
     "name": "stdout",
     "output_type": "stream",
     "text": [
      "WARNING:tensorflow:From c:\\Users\\sunwoong\\AppData\\Local\\Programs\\Python\\Python311\\Lib\\site-packages\\keras\\src\\backend.py:1398: The name tf.executing_eagerly_outside_functions is deprecated. Please use tf.compat.v1.executing_eagerly_outside_functions instead.\n",
      "\n",
      "WARNING:tensorflow:From c:\\Users\\sunwoong\\AppData\\Local\\Programs\\Python\\Python311\\Lib\\site-packages\\keras\\src\\layers\\pooling\\max_pooling2d.py:161: The name tf.nn.max_pool is deprecated. Please use tf.nn.max_pool2d instead.\n",
      "\n",
      "WARNING:tensorflow:From c:\\Users\\sunwoong\\AppData\\Local\\Programs\\Python\\Python311\\Lib\\site-packages\\keras\\src\\optimizers\\__init__.py:309: The name tf.train.Optimizer is deprecated. Please use tf.compat.v1.train.Optimizer instead.\n",
      "\n",
      "Epoch 1/50\n",
      "WARNING:tensorflow:From c:\\Users\\sunwoong\\AppData\\Local\\Programs\\Python\\Python311\\Lib\\site-packages\\keras\\src\\utils\\tf_utils.py:492: The name tf.ragged.RaggedTensorValue is deprecated. Please use tf.compat.v1.ragged.RaggedTensorValue instead.\n",
      "\n",
      "30/30 [==============================] - 2s 31ms/step - loss: 0.6560\n",
      "Epoch 2/50\n",
      "30/30 [==============================] - 1s 29ms/step - loss: 0.6136\n",
      "Epoch 3/50\n",
      "30/30 [==============================] - 1s 30ms/step - loss: 0.5968\n",
      "Epoch 4/50\n",
      "30/30 [==============================] - 1s 30ms/step - loss: 0.5894\n",
      "Epoch 5/50\n",
      "30/30 [==============================] - 1s 30ms/step - loss: 0.5841\n",
      "Epoch 6/50\n",
      "30/30 [==============================] - 1s 29ms/step - loss: 0.5833\n",
      "Epoch 7/50\n",
      "30/30 [==============================] - 1s 30ms/step - loss: 0.5787\n",
      "Epoch 8/50\n",
      "30/30 [==============================] - 1s 29ms/step - loss: 0.5780\n",
      "Epoch 9/50\n",
      "30/30 [==============================] - 1s 30ms/step - loss: 0.5764\n",
      "Epoch 10/50\n",
      "30/30 [==============================] - 1s 29ms/step - loss: 0.5759\n",
      "Epoch 11/50\n",
      "30/30 [==============================] - 1s 30ms/step - loss: 0.5752\n",
      "Epoch 12/50\n",
      "30/30 [==============================] - 1s 30ms/step - loss: 0.5741\n",
      "Epoch 13/50\n",
      "30/30 [==============================] - 1s 30ms/step - loss: 0.5741\n",
      "Epoch 14/50\n",
      "30/30 [==============================] - 1s 30ms/step - loss: 0.5744\n",
      "Epoch 15/50\n",
      "30/30 [==============================] - 1s 30ms/step - loss: 0.5730\n",
      "Epoch 16/50\n",
      "30/30 [==============================] - 1s 29ms/step - loss: 0.5725\n",
      "Epoch 17/50\n",
      "30/30 [==============================] - 1s 30ms/step - loss: 0.5720\n",
      "Epoch 18/50\n",
      "30/30 [==============================] - 1s 30ms/step - loss: 0.5713\n",
      "Epoch 19/50\n",
      "30/30 [==============================] - 1s 30ms/step - loss: 0.5712\n",
      "Epoch 20/50\n",
      "30/30 [==============================] - 1s 30ms/step - loss: 0.5720\n",
      "Epoch 21/50\n",
      "30/30 [==============================] - 1s 30ms/step - loss: 0.5719\n",
      "Epoch 22/50\n",
      "30/30 [==============================] - 1s 30ms/step - loss: 0.5708\n",
      "Epoch 23/50\n",
      "30/30 [==============================] - 1s 30ms/step - loss: 0.5703\n",
      "Epoch 24/50\n",
      "30/30 [==============================] - 1s 30ms/step - loss: 0.5697\n",
      "Epoch 25/50\n",
      "30/30 [==============================] - 1s 31ms/step - loss: 0.5694\n",
      "Epoch 26/50\n",
      "30/30 [==============================] - 1s 31ms/step - loss: 0.5731\n",
      "Epoch 27/50\n",
      "30/30 [==============================] - 1s 31ms/step - loss: 0.5720\n",
      "Epoch 28/50\n",
      "30/30 [==============================] - 1s 31ms/step - loss: 0.5693\n",
      "Epoch 29/50\n",
      "30/30 [==============================] - 1s 33ms/step - loss: 0.5691\n",
      "Epoch 30/50\n",
      "30/30 [==============================] - 1s 31ms/step - loss: 0.5687\n",
      "Epoch 31/50\n",
      "30/30 [==============================] - 1s 31ms/step - loss: 0.5693\n",
      "Epoch 32/50\n",
      "30/30 [==============================] - 1s 33ms/step - loss: 0.5683\n",
      "Epoch 33/50\n",
      "30/30 [==============================] - 1s 33ms/step - loss: 0.5687\n",
      "Epoch 34/50\n",
      "30/30 [==============================] - 1s 32ms/step - loss: 0.5682\n",
      "Epoch 35/50\n",
      "30/30 [==============================] - 1s 32ms/step - loss: 0.5682\n",
      "Epoch 36/50\n",
      "30/30 [==============================] - 1s 32ms/step - loss: 0.5677\n",
      "Epoch 37/50\n",
      "30/30 [==============================] - 1s 32ms/step - loss: 0.5677\n",
      "Epoch 38/50\n",
      "30/30 [==============================] - 1s 31ms/step - loss: 0.5672\n",
      "Epoch 39/50\n",
      "30/30 [==============================] - 1s 32ms/step - loss: 0.5672\n",
      "Epoch 40/50\n",
      "30/30 [==============================] - 1s 32ms/step - loss: 0.5675\n",
      "Epoch 41/50\n",
      "30/30 [==============================] - 1s 32ms/step - loss: 0.5672\n",
      "Epoch 42/50\n",
      "30/30 [==============================] - 1s 32ms/step - loss: 0.5681\n",
      "Epoch 43/50\n",
      "30/30 [==============================] - 1s 32ms/step - loss: 0.5675\n",
      "Epoch 44/50\n",
      "30/30 [==============================] - 1s 33ms/step - loss: 0.5674\n",
      "Epoch 45/50\n",
      "30/30 [==============================] - 1s 32ms/step - loss: 0.5674\n",
      "Epoch 46/50\n",
      "30/30 [==============================] - 1s 32ms/step - loss: 0.5663\n",
      "Epoch 47/50\n",
      "30/30 [==============================] - 1s 32ms/step - loss: 0.5670\n",
      "Epoch 48/50\n",
      "30/30 [==============================] - 1s 33ms/step - loss: 0.5662\n",
      "Epoch 49/50\n",
      "30/30 [==============================] - 1s 32ms/step - loss: 0.5662\n",
      "Epoch 50/50\n",
      "30/30 [==============================] - 1s 31ms/step - loss: 0.5663\n"
     ]
    },
    {
     "data": {
      "text/plain": [
       "<keras.src.callbacks.History at 0x1ab1aa91b10>"
      ]
     },
     "execution_count": 3,
     "metadata": {},
     "output_type": "execute_result"
    }
   ],
   "source": [
    "# 모든 배치 데이터를 하나의 배열에 담기\n",
    "import os\n",
    "data_list = []\n",
    "file_names = data_generator.filepaths\n",
    "for i in range(len(data_generator)):\n",
    "    data_batch = data_generator[i]\n",
    "    data_list.append(data_batch)\n",
    "\n",
    "data = np.concatenate(data_list, axis=0)\n",
    "\n",
    "# Convolutional Autoencoder 모델 정의\n",
    "input_img = Input(shape=(64, 64, 3))\n",
    "\n",
    "# Encoder\n",
    "x = Conv2D(32, (3, 3), activation='relu', padding='same')(input_img)\n",
    "x = MaxPooling2D((2, 2), padding='same')(x)\n",
    "x = Conv2D(64, (3, 3), activation='relu', padding='same')(x)\n",
    "x = MaxPooling2D((2, 2), padding='same')(x)\n",
    "encoded = Conv2D(128, (3, 3), activation='relu', padding='same', name='encoded_layer')(x)\n",
    "encoded = MaxPooling2D((2, 2), padding='same')(encoded)\n",
    "\n",
    "# Decoder\n",
    "x = Conv2D(128, (3, 3), activation='relu', padding='same')(encoded)\n",
    "x = UpSampling2D((2, 2))(x)\n",
    "x = Conv2D(64, (3, 3), activation='relu', padding='same')(x)\n",
    "x = UpSampling2D((2, 2))(x)\n",
    "x = Conv2D(32, (3, 3), activation='relu', padding='same')(x)\n",
    "x = UpSampling2D((2, 2))(x)\n",
    "decoded = Conv2D(3, (3, 3), activation='sigmoid', padding='same')(x)\n",
    "\n",
    "autoencoder = Model(input_img, decoded)\n",
    "autoencoder.compile(optimizer='adam', loss='binary_crossentropy')\n",
    "\n",
    "# 모델 학습\n",
    "autoencoder.fit(data, data, epochs=50, batch_size=32, shuffle=True)\n"
   ]
  },
  {
   "cell_type": "code",
   "execution_count": 4,
   "metadata": {},
   "outputs": [
    {
     "name": "stdout",
     "output_type": "stream",
     "text": [
      "30/30 [==============================] - 0s 4ms/step\n"
     ]
    },
    {
     "name": "stderr",
     "output_type": "stream",
     "text": [
      "c:\\Users\\sunwoong\\AppData\\Local\\Programs\\Python\\Python311\\Lib\\site-packages\\sklearn\\cluster\\_kmeans.py:1416: FutureWarning: The default value of `n_init` will change from 10 to 'auto' in 1.4. Set the value of `n_init` explicitly to suppress the warning\n",
      "  super()._check_params_vs_input(X, default_n_init=10)\n"
     ]
    },
    {
     "data": {
      "image/png": "[encoded data removed]",
      "text/plain": [
       "<Figure size 640x480 with 2 Axes>"
      ]
     },
     "metadata": {},
     "output_type": "display_data"
    }
   ],
   "source": [
    "from sklearn.cluster import KMeans\n",
    "import matplotlib.pyplot as plt\n",
    "from sklearn.decomposition import PCA\n",
    "import pandas as pd\n",
    "import os\n",
    "# 임베딩 생성\n",
    "encoder = Model(inputs=autoencoder.input, outputs=autoencoder.get_layer('encoded_layer').output)\n",
    "embeddings = encoder.predict(data)\n",
    "\n",
    "# 임베딩을 2차원으로 축소 (PCA 사용)\n",
    "embeddings_flat = embeddings.reshape((embeddings.shape[0], -1))\n",
    "pca = PCA(n_components=50)\n",
    "embeddings_pca = pca.fit_transform(embeddings_flat)\n",
    "\n",
    "# K-means 클러스터링\n",
    "kmeans = KMeans(n_clusters=2, random_state=0).fit(embeddings_pca)\n",
    "labels = kmeans.labels_\n",
    "\n",
    "# 파일명과 라벨을 DataFrame으로 저장\n",
    "file_names = [os.path.basename(f) for f in file_names]\n",
    "df = pd.DataFrame({'file_name': file_names, 'label': labels})\n",
    "\n",
    "# CSV 파일로 저장\n",
    "df.to_csv('clustered_labels.csv', index=False)\n",
    "# 클러스터링 결과 시각화\n",
    "plt.scatter(embeddings_pca[:, 0], embeddings_pca[:, 1], c=labels)\n",
    "plt.colorbar()\n",
    "plt.show()"
   ]
  },
  {
   "cell_type": "code",
   "execution_count": 35,
   "metadata": {},
   "outputs": [
    {
     "name": "stdout",
     "output_type": "stream",
     "text": [
      "Found 960 images belonging to 1 classes.\n"
     ]
    }
   ],
   "source": [
    "from tensorflow.keras.preprocessing.image import ImageDataGenerator\n",
    "import numpy as np\n",
    "import os\n",
    "\n",
    "# 데이터셋 경로\n",
    "dataset_dir = './AIRFORCE_classification'\n",
    "\n",
    "# 이미지 전처리\n",
    "datagen = ImageDataGenerator(rescale=1./255)\n",
    "\n",
    "data_generator = datagen.flow_from_directory(\n",
    "    directory=dataset_dir,\n",
    "    target_size=(64, 64),\n",
    "    batch_size=32,\n",
    "    class_mode=None,\n",
    "    shuffle=False\n",
    ")\n",
    "\n",
    "# 모든 배치 데이터를 하나의 배열에 담기\n",
    "data_list = []\n",
    "file_names = data_generator.filepaths\n",
    "for i in range(len(data_generator)):\n",
    "    data_batch = data_generator[i]\n",
    "    data_list.append(data_batch)\n",
    "\n",
    "data = np.concatenate(data_list, axis=0)\n"
   ]
  },
  {
   "cell_type": "code",
   "execution_count": 36,
   "metadata": {},
   "outputs": [
    {
     "name": "stdout",
     "output_type": "stream",
     "text": [
      "Epoch 1/50\n",
      "30/30 [==============================] - 1s 27ms/step - loss: 0.6516\n",
      "Epoch 2/50\n",
      "30/30 [==============================] - 1s 27ms/step - loss: 0.6062\n",
      "Epoch 3/50\n",
      "30/30 [==============================] - 1s 27ms/step - loss: 0.5935\n",
      "Epoch 4/50\n",
      "30/30 [==============================] - 1s 27ms/step - loss: 0.5865\n",
      "Epoch 5/50\n",
      "30/30 [==============================] - 1s 27ms/step - loss: 0.5846\n",
      "Epoch 6/50\n",
      "30/30 [==============================] - 1s 26ms/step - loss: 0.5812\n",
      "Epoch 7/50\n",
      "30/30 [==============================] - 1s 27ms/step - loss: 0.5802\n",
      "Epoch 8/50\n",
      "30/30 [==============================] - 1s 27ms/step - loss: 0.5795\n",
      "Epoch 9/50\n",
      "30/30 [==============================] - 1s 27ms/step - loss: 0.5788\n",
      "Epoch 10/50\n",
      "30/30 [==============================] - 1s 26ms/step - loss: 0.5767\n",
      "Epoch 11/50\n",
      "30/30 [==============================] - 1s 27ms/step - loss: 0.5786\n",
      "Epoch 12/50\n",
      "30/30 [==============================] - 1s 27ms/step - loss: 0.5767\n",
      "Epoch 13/50\n",
      "30/30 [==============================] - 1s 26ms/step - loss: 0.5755\n",
      "Epoch 14/50\n",
      "30/30 [==============================] - 1s 26ms/step - loss: 0.5750\n",
      "Epoch 15/50\n",
      "30/30 [==============================] - 1s 26ms/step - loss: 0.5755\n",
      "Epoch 16/50\n",
      "30/30 [==============================] - 1s 27ms/step - loss: 0.5754\n",
      "Epoch 17/50\n",
      "30/30 [==============================] - 1s 27ms/step - loss: 0.5742\n",
      "Epoch 18/50\n",
      "30/30 [==============================] - 1s 26ms/step - loss: 0.5743\n",
      "Epoch 19/50\n",
      "30/30 [==============================] - 1s 26ms/step - loss: 0.5746\n",
      "Epoch 20/50\n",
      "30/30 [==============================] - 1s 27ms/step - loss: 0.5745\n",
      "Epoch 21/50\n",
      "30/30 [==============================] - 1s 27ms/step - loss: 0.5730\n",
      "Epoch 22/50\n",
      "30/30 [==============================] - 1s 26ms/step - loss: 0.5732\n",
      "Epoch 23/50\n",
      "30/30 [==============================] - 1s 27ms/step - loss: 0.5735\n",
      "Epoch 24/50\n",
      "30/30 [==============================] - 1s 28ms/step - loss: 0.5728\n",
      "Epoch 25/50\n",
      "30/30 [==============================] - 1s 29ms/step - loss: 0.5720\n",
      "Epoch 26/50\n",
      "30/30 [==============================] - 1s 27ms/step - loss: 0.5719\n",
      "Epoch 27/50\n",
      "30/30 [==============================] - 1s 27ms/step - loss: 0.5718\n",
      "Epoch 28/50\n",
      "30/30 [==============================] - 1s 27ms/step - loss: 0.5715\n",
      "Epoch 29/50\n",
      "30/30 [==============================] - 1s 28ms/step - loss: 0.5716\n",
      "Epoch 30/50\n",
      "30/30 [==============================] - 1s 27ms/step - loss: 0.5708\n",
      "Epoch 31/50\n",
      "30/30 [==============================] - 1s 27ms/step - loss: 0.5713\n",
      "Epoch 32/50\n",
      "30/30 [==============================] - 1s 27ms/step - loss: 0.5706\n",
      "Epoch 33/50\n",
      "30/30 [==============================] - 1s 27ms/step - loss: 0.5711\n",
      "Epoch 34/50\n",
      "30/30 [==============================] - 1s 27ms/step - loss: 0.5705\n",
      "Epoch 35/50\n",
      "30/30 [==============================] - 1s 27ms/step - loss: 0.5704\n",
      "Epoch 36/50\n",
      "30/30 [==============================] - 1s 27ms/step - loss: 0.5707\n",
      "Epoch 37/50\n",
      "30/30 [==============================] - 1s 27ms/step - loss: 0.5699\n",
      "Epoch 38/50\n",
      "30/30 [==============================] - 1s 27ms/step - loss: 0.5696\n",
      "Epoch 39/50\n",
      "30/30 [==============================] - 1s 27ms/step - loss: 0.5695\n",
      "Epoch 40/50\n",
      "30/30 [==============================] - 1s 28ms/step - loss: 0.5697\n",
      "Epoch 41/50\n",
      "30/30 [==============================] - 1s 27ms/step - loss: 0.5707\n",
      "Epoch 42/50\n",
      "30/30 [==============================] - 1s 27ms/step - loss: 0.5721\n",
      "Epoch 43/50\n",
      "30/30 [==============================] - 1s 27ms/step - loss: 0.5694\n",
      "Epoch 44/50\n",
      "30/30 [==============================] - 1s 27ms/step - loss: 0.5690\n",
      "Epoch 45/50\n",
      "30/30 [==============================] - 1s 27ms/step - loss: 0.5690\n",
      "Epoch 46/50\n",
      "30/30 [==============================] - 1s 27ms/step - loss: 0.5689\n",
      "Epoch 47/50\n",
      "30/30 [==============================] - 1s 27ms/step - loss: 0.5685\n",
      "Epoch 48/50\n",
      "30/30 [==============================] - 1s 27ms/step - loss: 0.5687\n",
      "Epoch 49/50\n",
      "30/30 [==============================] - 1s 27ms/step - loss: 0.5686\n",
      "Epoch 50/50\n",
      "30/30 [==============================] - 1s 27ms/step - loss: 0.5681\n"
     ]
    },
    {
     "data": {
      "text/plain": [
       "<keras.src.callbacks.History at 0x199968fcad0>"
      ]
     },
     "execution_count": 36,
     "metadata": {},
     "output_type": "execute_result"
    }
   ],
   "source": [
    "import tensorflow as tf\n",
    "from tensorflow.keras.layers import Input, Conv2D, MaxPooling2D, UpSampling2D\n",
    "from tensorflow.keras.models import Model\n",
    "\n",
    "# Convolutional Autoencoder 모델 정의\n",
    "input_img = Input(shape=(64, 64, 3))\n",
    "\n",
    "# Encoder\n",
    "x = Conv2D(32, (3, 3), activation='relu', padding='same')(input_img)\n",
    "x = MaxPooling2D((2, 2), padding='same')(x)\n",
    "x = Conv2D(64, (3, 3), activation='relu', padding='same')(x)\n",
    "x = MaxPooling2D((2, 2), padding='same')(x)\n",
    "encoded = Conv2D(128, (3, 3), activation='relu', padding='same')(x)\n",
    "encoded = MaxPooling2D((2, 2), padding='same', name='encoded_layer')(x)\n",
    "\n",
    "# Decoder\n",
    "x = Conv2D(128, (3, 3), activation='relu', padding='same')(encoded)\n",
    "x = UpSampling2D((2, 2))(x)\n",
    "x = Conv2D(64, (3, 3), activation='relu', padding='same')(x)\n",
    "x = UpSampling2D((2, 2))(x)\n",
    "x = Conv2D(32, (3, 3), activation='relu', padding='same')(x)\n",
    "x = UpSampling2D((2, 2))(x)\n",
    "decoded = Conv2D(3, (3, 3), activation='sigmoid', padding='same')(x)\n",
    "\n",
    "autoencoder = Model(input_img, decoded)\n",
    "autoencoder.compile(optimizer='adam', loss='binary_crossentropy')\n",
    "\n",
    "# 모델 학습\n",
    "autoencoder.fit(data, data, epochs=50, batch_size=32, shuffle=True)\n"
   ]
  },
  {
   "cell_type": "code",
   "execution_count": 37,
   "metadata": {},
   "outputs": [
    {
     "name": "stdout",
     "output_type": "stream",
     "text": [
      "30/30 [==============================] - 0s 2ms/step\n"
     ]
    },
    {
     "name": "stderr",
     "output_type": "stream",
     "text": [
      "c:\\Users\\sunwoong\\AppData\\Local\\Programs\\Python\\Python311\\Lib\\site-packages\\sklearn\\cluster\\_kmeans.py:1416: FutureWarning: The default value of `n_init` will change from 10 to 'auto' in 1.4. Set the value of `n_init` explicitly to suppress the warning\n",
      "  super()._check_params_vs_input(X, default_n_init=10)\n"
     ]
    }
   ],
   "source": [
    "from sklearn.cluster import KMeans\n",
    "from sklearn.decomposition import PCA\n",
    "import pandas as pd\n",
    "\n",
    "# 임베딩 생성\n",
    "encoder = Model(inputs=autoencoder.input, outputs=autoencoder.get_layer('encoded_layer').output)\n",
    "embeddings = encoder.predict(data)\n",
    "\n",
    "# 임베딩을 2차원으로 축소 (PCA 사용)\n",
    "embeddings_flat = embeddings.reshape((embeddings.shape[0], -1))\n",
    "pca = PCA(n_components=50)\n",
    "embeddings_pca = pca.fit_transform(embeddings_flat)\n",
    "\n",
    "# K-means 클러스터링\n",
    "kmeans = KMeans(n_clusters=3, random_state=0).fit(embeddings_pca)\n",
    "labels = kmeans.labels_\n",
    "\n",
    "# 파일명과 라벨을 DataFrame으로 저장\n",
    "file_names = [os.path.basename(f) for f in file_names]\n",
    "df = pd.DataFrame({'file_name': file_names, 'label': labels})\n",
    "\n",
    "# CSV 파일로 저장\n",
    "df.to_csv('clustered_labels_3.csv', index=False)\n"
   ]
  },
  {
   "cell_type": "code",
   "execution_count": 5,
   "metadata": {},
   "outputs": [
    {
     "name": "stdout",
     "output_type": "stream",
     "text": [
      "Found 770 images belonging to 3 classes.\n",
      "Found 190 images belonging to 3 classes.\n"
     ]
    }
   ],
   "source": [
    "from tensorflow.keras.preprocessing.image import ImageDataGenerator\n",
    "\n",
    "# 데이터셋 경로\n",
    "dataset_dir = './AIRFORCE_classification'\n",
    "\n",
    "# 이미지 전처리\n",
    "datagen = ImageDataGenerator(rescale=1./255, validation_split=0.2)\n",
    "\n",
    "train_generator = datagen.flow_from_directory(\n",
    "    directory=dataset_dir,\n",
    "    target_size=(224, 224),\n",
    "    batch_size=32,\n",
    "    class_mode='categorical',\n",
    "    subset='training'\n",
    ")\n",
    "\n",
    "validation_generator = datagen.flow_from_directory(\n",
    "    directory=dataset_dir,\n",
    "    target_size=(224, 224),\n",
    "    batch_size=32,\n",
    "    class_mode='categorical',\n",
    "    subset='validation'\n",
    ")\n"
   ]
  },
  {
   "cell_type": "code",
   "execution_count": 6,
   "metadata": {},
   "outputs": [
    {
     "name": "stdout",
     "output_type": "stream",
     "text": [
      "Epoch 1/10\n",
      "WARNING:tensorflow:From c:\\Users\\sunwoong\\AppData\\Local\\Programs\\Python\\Python311\\Lib\\site-packages\\keras\\src\\engine\\base_layer_utils.py:384: The name tf.executing_eagerly_outside_functions is deprecated. Please use tf.compat.v1.executing_eagerly_outside_functions instead.\n",
      "\n",
      "24/24 [==============================] - 12s 368ms/step - loss: 1.1474 - accuracy: 0.4539 - val_loss: 0.9907 - val_accuracy: 0.5188\n",
      "Epoch 2/10\n",
      "24/24 [==============================] - 8s 328ms/step - loss: 0.9824 - accuracy: 0.5149 - val_loss: 1.0266 - val_accuracy: 0.5312\n",
      "Epoch 3/10\n",
      "24/24 [==============================] - 8s 324ms/step - loss: 0.9950 - accuracy: 0.5203 - val_loss: 0.9702 - val_accuracy: 0.5188\n",
      "Epoch 4/10\n",
      "24/24 [==============================] - 8s 328ms/step - loss: 1.0049 - accuracy: 0.4851 - val_loss: 1.0111 - val_accuracy: 0.3250\n",
      "Epoch 5/10\n",
      "24/24 [==============================] - 8s 346ms/step - loss: 0.9937 - accuracy: 0.4743 - val_loss: 0.9594 - val_accuracy: 0.5312\n",
      "Epoch 6/10\n",
      "24/24 [==============================] - 8s 328ms/step - loss: 1.0140 - accuracy: 0.4946 - val_loss: 1.0579 - val_accuracy: 0.3625\n",
      "Epoch 7/10\n",
      "24/24 [==============================] - 8s 329ms/step - loss: 1.0116 - accuracy: 0.5054 - val_loss: 1.0759 - val_accuracy: 0.5312\n",
      "Epoch 8/10\n",
      "24/24 [==============================] - 8s 329ms/step - loss: 1.0180 - accuracy: 0.4661 - val_loss: 1.0557 - val_accuracy: 0.5188\n",
      "Epoch 9/10\n",
      "24/24 [==============================] - 8s 324ms/step - loss: 0.9902 - accuracy: 0.5095 - val_loss: 0.9576 - val_accuracy: 0.5625\n",
      "Epoch 10/10\n",
      "24/24 [==============================] - 8s 329ms/step - loss: 0.9682 - accuracy: 0.5352 - val_loss: 0.9381 - val_accuracy: 0.5437\n",
      "Epoch 1/10\n",
      "24/24 [==============================] - 12s 401ms/step - loss: 0.9960 - accuracy: 0.5095 - val_loss: 0.9955 - val_accuracy: 0.5125\n",
      "Epoch 2/10\n",
      "24/24 [==============================] - 9s 355ms/step - loss: 0.9731 - accuracy: 0.5339 - val_loss: 0.9897 - val_accuracy: 0.5188\n",
      "Epoch 3/10\n",
      "24/24 [==============================] - 9s 354ms/step - loss: 0.9654 - accuracy: 0.5352 - val_loss: 0.9729 - val_accuracy: 0.5188\n",
      "Epoch 4/10\n",
      "24/24 [==============================] - 8s 347ms/step - loss: 0.9634 - accuracy: 0.5434 - val_loss: 0.9728 - val_accuracy: 0.5250\n",
      "Epoch 5/10\n",
      "24/24 [==============================] - 8s 350ms/step - loss: 0.9738 - accuracy: 0.5326 - val_loss: 0.9504 - val_accuracy: 0.5500\n",
      "Epoch 6/10\n",
      "24/24 [==============================] - 8s 350ms/step - loss: 0.9699 - accuracy: 0.5339 - val_loss: 0.9827 - val_accuracy: 0.5250\n",
      "Epoch 7/10\n",
      "24/24 [==============================] - 8s 361ms/step - loss: 0.9700 - accuracy: 0.5244 - val_loss: 0.9842 - val_accuracy: 0.5312\n",
      "Epoch 8/10\n",
      "24/24 [==============================] - 8s 336ms/step - loss: 0.9735 - accuracy: 0.5203 - val_loss: 1.0081 - val_accuracy: 0.5000\n",
      "Epoch 9/10\n",
      "24/24 [==============================] - 8s 338ms/step - loss: 0.9803 - accuracy: 0.5054 - val_loss: 0.9848 - val_accuracy: 0.5312\n",
      "Epoch 10/10\n",
      "24/24 [==============================] - 8s 344ms/step - loss: 0.9616 - accuracy: 0.5379 - val_loss: 0.9830 - val_accuracy: 0.5250\n"
     ]
    }
   ],
   "source": [
    "from tensorflow.keras.applications import EfficientNetB0\n",
    "from tensorflow.keras.layers import Dense, GlobalAveragePooling2D\n",
    "from tensorflow.keras.models import Model\n",
    "from tensorflow.keras.optimizers import Adam\n",
    "\n",
    "# Pretrained EfficientNetB0 모델 불러오기\n",
    "base_model = EfficientNetB0(weights='imagenet', include_top=False, input_shape=(224, 224, 3))\n",
    "\n",
    "# 모델 수정\n",
    "x = base_model.output\n",
    "x = GlobalAveragePooling2D()(x)\n",
    "x = Dense(1024, activation='relu')(x)\n",
    "predictions = Dense(3, activation='softmax')(x)  # 3개의 클래스: full, part, etc\n",
    "\n",
    "model = Model(inputs=base_model.input, outputs=predictions)\n",
    "\n",
    "# 기본 모델의 레이어를 동결\n",
    "for layer in base_model.layers:\n",
    "    layer.trainable = False\n",
    "\n",
    "# 모델 컴파일\n",
    "model.compile(optimizer=Adam(learning_rate=0.001), loss='categorical_crossentropy', metrics=['accuracy'])\n",
    "\n",
    "# 모델 학습\n",
    "history = model.fit(\n",
    "    train_generator,\n",
    "    steps_per_epoch=train_generator.samples // train_generator.batch_size,\n",
    "    validation_data=validation_generator,\n",
    "    validation_steps=validation_generator.samples // validation_generator.batch_size,\n",
    "    epochs=10\n",
    ")\n",
    "\n",
    "# 일부 레이어의 동결을 해제하고 다시 학습\n",
    "for layer in base_model.layers[-20:]:\n",
    "    layer.trainable = True\n",
    "\n",
    "# 모델 재컴파일\n",
    "model.compile(optimizer=Adam(learning_rate=0.0001), loss='categorical_crossentropy', metrics=['accuracy'])\n",
    "\n",
    "# 모델 재학습\n",
    "history_fine = model.fit(\n",
    "    train_generator,\n",
    "    steps_per_epoch=train_generator.samples // train_generator.batch_size,\n",
    "    validation_data=validation_generator,\n",
    "    validation_steps=validation_generator.samples // validation_generator.batch_size,\n",
    "    epochs=10\n",
    ")\n"
   ]
  },
  {
   "cell_type": "code",
   "execution_count": 7,
   "metadata": {},
   "outputs": [
    {
     "data": {
      "image/png": "[encoded data removed]",
      "text/plain": [
       "<Figure size 800x800 with 2 Axes>"
      ]
     },
     "metadata": {},
     "output_type": "display_data"
    },
    {
     "name": "stdout",
     "output_type": "stream",
     "text": [
      "5/5 [==============================] - 2s 294ms/step - loss: 1.0104 - accuracy: 0.5188\n",
      "Validation Accuracy: 51.88%\n"
     ]
    }
   ],
   "source": [
    "import matplotlib.pyplot as plt\n",
    "\n",
    "# 학습 중의 정확도와 손실 그래프 그리기\n",
    "acc = history.history['accuracy'] + history_fine.history['accuracy']\n",
    "val_acc = history.history['val_accuracy'] + history_fine.history['val_accuracy']\n",
    "loss = history.history['loss'] + history_fine.history['loss']\n",
    "val_loss = history.history['val_loss'] + history_fine.history['val_loss']\n",
    "\n",
    "epochs_range = range(len(acc))\n",
    "\n",
    "plt.figure(figsize=(8, 8))\n",
    "plt.subplot(1, 2, 1)\n",
    "plt.plot(epochs_range, acc, label='Training Accuracy')\n",
    "plt.plot(epochs_range, val_acc, label='Validation Accuracy')\n",
    "plt.legend(loc='lower right')\n",
    "plt.title('Training and Validation Accuracy')\n",
    "\n",
    "plt.subplot(1, 2, 2)\n",
    "plt.plot(epochs_range, loss, label='Training Loss')\n",
    "plt.plot(epochs_range, val_loss, label='Validation Loss')\n",
    "plt.legend(loc='upper right')\n",
    "plt.title('Training and Validation Loss')\n",
    "plt.show()\n",
    "\n",
    "# 검증 세트에서 정확도 평가\n",
    "loss, accuracy = model.evaluate(validation_generator, steps=validation_generator.samples // validation_generator.batch_size)\n",
    "print(f'Validation Accuracy: {accuracy * 100:.2f}%')\n"
   ]
  },
  {
   "cell_type": "code",
   "execution_count": 44,
   "metadata": {},
   "outputs": [
    {
     "name": "stdout",
     "output_type": "stream",
     "text": [
      "25/25 [==============================] - 7s 264ms/step\n",
      "6/6 [==============================] - 2s 257ms/step\n"
     ]
    }
   ],
   "source": [
    "import pandas as pd\n",
    "import numpy as np\n",
    "\n",
    "# 예측 생성\n",
    "train_files = train_generator.filenames\n",
    "validation_files = validation_generator.filenames\n",
    "file_paths = train_files + validation_files\n",
    "\n",
    "train_predictions = model.predict(train_generator)\n",
    "validation_predictions = model.predict(validation_generator)\n",
    "predictions = np.concatenate((train_predictions, validation_predictions), axis=0)\n",
    "\n",
    "# 예측된 클래스 라벨\n",
    "predicted_classes = np.argmax(predictions, axis=1)\n",
    "\n",
    "# 파일명과 예측된 라벨을 DataFrame으로 저장\n",
    "df = pd.DataFrame({'file_name': file_paths, 'label': predicted_classes})\n",
    "\n",
    "# CSV 파일로 저장\n",
    "df.to_csv('classified_labels_supervised.csv', index=False)\n"
   ]
  },
  {
   "cell_type": "code",
   "execution_count": null,
   "metadata": {},
   "outputs": [],
   "source": []
  },
  {
   "cell_type": "markdown",
   "metadata": {},
   "source": [
    "## CNN"
   ]
  },
  {
   "cell_type": "code",
   "execution_count": 8,
   "metadata": {},
   "outputs": [],
   "source": [
    "import torch\n",
    "import torch.nn as nn\n",
    "import torch.optim as optim\n",
    "import torchvision.transforms as transforms\n",
    "import torchvision.datasets as datasets\n",
    "from torch.utils.data import DataLoader\n"
   ]
  },
  {
   "cell_type": "code",
   "execution_count": 10,
   "metadata": {},
   "outputs": [],
   "source": [
    "# 원본 데이터 경로\n",
    "dataset_dir = './airforce_tot_classification'\n",
    "\n",
    "# 임시 폴더 생성\n",
    "train_dir = './airforce_tot_classification/train'\n",
    "val_dir = './airforce_tot_classification/val'\n",
    "\n",
    "os.makedirs(train_dir, exist_ok=True)\n",
    "os.makedirs(val_dir, exist_ok=True)\n",
    "\n",
    "# 클래스 폴더 생성\n",
    "classes = ['Full', 'ETC']\n",
    "for cls in classes:\n",
    "    os.makedirs(os.path.join(train_dir, cls), exist_ok=True)\n",
    "    os.makedirs(os.path.join(val_dir, cls), exist_ok=True)\n"
   ]
  },
  {
   "cell_type": "code",
   "execution_count": 11,
   "metadata": {},
   "outputs": [],
   "source": [
    "import os\n",
    "import shutil\n",
    "from sklearn.model_selection import train_test_split\n",
    "\n",
    "# 데이터셋을 훈련 세트와 검증 세트로 나누기\n",
    "for cls in classes:\n",
    "    class_dir = os.path.join(dataset_dir, cls)\n",
    "    images = os.listdir(class_dir)\n",
    "    train_images, val_images = train_test_split(images, test_size=0.2, random_state=42)\n",
    "    \n",
    "    for img in train_images:\n",
    "        shutil.copy(os.path.join(class_dir, img), os.path.join(train_dir, cls, img))\n",
    "    \n",
    "    for img in val_images:\n",
    "        shutil.copy(os.path.join(class_dir, img), os.path.join(val_dir, cls, img))"
   ]
  },
  {
   "cell_type": "code",
   "execution_count": 12,
   "metadata": {},
   "outputs": [],
   "source": [
    "import torch\n",
    "import torchvision.transforms as transforms\n",
    "import torchvision.datasets as datasets\n",
    "from torch.utils.data import DataLoader\n",
    "\n",
    "# GPU 설정\n",
    "device = torch.device(\"cuda\" if torch.cuda.is_available() else \"cpu\")\n",
    "\n",
    "# 데이터 변환 및 전처리\n",
    "transform = transforms.Compose([\n",
    "    transforms.Resize((28, 28)),\n",
    "    transforms.ToTensor(),\n",
    "    transforms.Normalize((0.5,), (0.5,))\n",
    "])\n",
    "\n",
    "# 데이터셋 로드\n",
    "train_dataset = datasets.ImageFolder(root=train_dir, transform=transform)\n",
    "val_dataset = datasets.ImageFolder(root=val_dir, transform=transform)\n",
    "\n",
    "# 데이터 로더 설정\n",
    "train_loader = DataLoader(train_dataset, batch_size=32, shuffle=True)\n",
    "val_loader = DataLoader(val_dataset, batch_size=32, shuffle=False)\n"
   ]
  },
  {
   "cell_type": "code",
   "execution_count": 13,
   "metadata": {},
   "outputs": [],
   "source": [
    "import torch.nn as nn\n",
    "import torch.nn.functional as F\n",
    "\n",
    "class CNNModel(nn.Module):\n",
    "    def __init__(self):\n",
    "        super(CNNModel, self).__init__()\n",
    "        self.conv1 = nn.Conv2d(3, 32, kernel_size=3, padding=1)\n",
    "        self.pool = nn.MaxPool2d(kernel_size=2, stride=2, padding=0)\n",
    "        self.conv2 = nn.Conv2d(32, 64, kernel_size=3, padding=1)\n",
    "        self.conv3 = nn.Conv2d(64, 128, kernel_size=3, padding=1)\n",
    "        self.fc1 = nn.Linear(128 * 3 * 3, 128)\n",
    "        self.fc2 = nn.Linear(128, 2)  # 2개의 클래스: full, etc\n",
    "        self.dropout = nn.Dropout(0.5)\n",
    "    \n",
    "    def forward(self, x):\n",
    "        x = self.pool(F.relu(self.conv1(x)))\n",
    "        x = self.pool(F.relu(self.conv2(x)))\n",
    "        x = self.pool(F.relu(self.conv3(x)))\n",
    "        x = x.view(-1, 128 * 3 * 3)\n",
    "        x = F.relu(self.fc1(x))\n",
    "        x = self.dropout(x)\n",
    "        x = self.fc2(x)\n",
    "        return x\n",
    "\n",
    "# 모델 초기화 및 GPU 설정\n",
    "model = CNNModel().to(device)\n"
   ]
  },
  {
   "cell_type": "code",
   "execution_count": 14,
   "metadata": {},
   "outputs": [
    {
     "name": "stdout",
     "output_type": "stream",
     "text": [
      "Epoch [1/10], Loss: 0.6864\n",
      "Epoch [2/10], Loss: 0.6487\n",
      "Epoch [3/10], Loss: 0.5936\n",
      "Epoch [4/10], Loss: 0.5228\n",
      "Epoch [5/10], Loss: 0.4864\n",
      "Epoch [6/10], Loss: 0.4348\n",
      "Epoch [7/10], Loss: 0.3773\n",
      "Epoch [8/10], Loss: 0.3165\n",
      "Epoch [9/10], Loss: 0.2490\n",
      "Epoch [10/10], Loss: 0.1865\n"
     ]
    }
   ],
   "source": [
    "import torch.optim as optim\n",
    "\n",
    "# 손실 함수 및 옵티마이저 설정\n",
    "criterion = nn.CrossEntropyLoss()\n",
    "optimizer = optim.Adam(model.parameters(), lr=0.001)\n",
    "\n",
    "# 모델 학습\n",
    "num_epochs = 10\n",
    "\n",
    "for epoch in range(num_epochs):\n",
    "    model.train()\n",
    "    running_loss = 0.0\n",
    "    for images, labels in train_loader:\n",
    "        images, labels = images.to(device), labels.to(device)\n",
    "        \n",
    "        # 옵티마이저 초기화\n",
    "        optimizer.zero_grad()\n",
    "        \n",
    "        # 순전파\n",
    "        outputs = model(images)\n",
    "        loss = criterion(outputs, labels)\n",
    "        \n",
    "        # 역전파 및 최적화\n",
    "        loss.backward()\n",
    "        optimizer.step()\n",
    "        \n",
    "        running_loss += loss.item()\n",
    "    \n",
    "    print(f'Epoch [{epoch+1}/{num_epochs}], Loss: {running_loss/len(train_loader):.4f}')\n"
   ]
  },
  {
   "cell_type": "code",
   "execution_count": 15,
   "metadata": {},
   "outputs": [
    {
     "name": "stdout",
     "output_type": "stream",
     "text": [
      "Validation Accuracy: 74.86%\n"
     ]
    }
   ],
   "source": [
    "model.eval()\n",
    "correct = 0\n",
    "total = 0\n",
    "with torch.no_grad():\n",
    "    for images, labels in val_loader:\n",
    "        images, labels = images.to(device), labels.to(device)\n",
    "        outputs = model(images)\n",
    "        _, predicted = torch.max(outputs.data, 1)\n",
    "        total += labels.size(0)\n",
    "        correct += (predicted == labels).sum().item()\n",
    "\n",
    "print(f'Validation Accuracy: {100 * correct / total:.2f}%')\n"
   ]
  },
  {
   "cell_type": "code",
   "execution_count": 16,
   "metadata": {},
   "outputs": [],
   "source": [
    "import pandas as pd\n",
    "import numpy as np\n",
    "\n",
    "# 예측 생성\n",
    "file_paths = [f[0] for f in train_loader.dataset.samples] + [f[0] for f in val_loader.dataset.samples]\n",
    "predictions = []\n",
    "\n",
    "model.eval()\n",
    "with torch.no_grad():\n",
    "    for images, _ in train_loader:\n",
    "        images = images.to(device)\n",
    "        outputs = model(images)\n",
    "        _, predicted = torch.max(outputs.data, 1)\n",
    "        predictions.extend(predicted.cpu().numpy())\n",
    "    \n",
    "    for images, _ in val_loader:\n",
    "        images = images.to(device)\n",
    "        outputs = model(images)\n",
    "        _, predicted = torch.max(outputs.data, 1)\n",
    "        predictions.extend(predicted.cpu().numpy())\n",
    "\n",
    "# 파일명과 예측된 라벨을 DataFrame으로 저장\n",
    "df = pd.DataFrame({'file_name': file_paths, 'label': predictions})\n",
    "\n",
    "# CSV 파일로 저장\n",
    "df.to_csv('classified_labels.csv', index=False)\n"
   ]
  },
  {
   "cell_type": "code",
   "execution_count": null,
   "metadata": {},
   "outputs": [],
   "source": []
  },
  {
   "cell_type": "markdown",
   "metadata": {},
   "source": [
    "## ResNET"
   ]
  },
  {
   "cell_type": "code",
   "execution_count": 17,
   "metadata": {},
   "outputs": [],
   "source": [
    "import torch\n",
    "import torchvision.transforms as transforms\n",
    "import torchvision.datasets as datasets\n",
    "from torch.utils.data import DataLoader\n",
    "\n",
    "# GPU 설정\n",
    "device = torch.device(\"cuda\" if torch.cuda.is_available() else \"cpu\")\n",
    "\n",
    "# 데이터 변환 및 전처리\n",
    "transform = transforms.Compose([\n",
    "    transforms.Resize((224, 224)),\n",
    "    transforms.ToTensor(),\n",
    "    transforms.Normalize((0.5, 0.5, 0.5), (0.5, 0.5, 0.5))\n",
    "])\n",
    "\n",
    "# 데이터셋 로드\n",
    "train_dataset = datasets.ImageFolder(root=train_dir, transform=transform)\n",
    "val_dataset = datasets.ImageFolder(root=val_dir, transform=transform)\n",
    "\n",
    "# 데이터 로더 설정\n",
    "train_loader = DataLoader(train_dataset, batch_size=32, shuffle=True)\n",
    "val_loader = DataLoader(val_dataset, batch_size=32, shuffle=False)\n"
   ]
  },
  {
   "cell_type": "code",
   "execution_count": 18,
   "metadata": {},
   "outputs": [
    {
     "name": "stderr",
     "output_type": "stream",
     "text": [
      "c:\\Users\\sunwoong\\AppData\\Local\\Programs\\Python\\Python311\\Lib\\site-packages\\torchvision\\models\\_utils.py:208: UserWarning: The parameter 'pretrained' is deprecated since 0.13 and may be removed in the future, please use 'weights' instead.\n",
      "  warnings.warn(\n",
      "c:\\Users\\sunwoong\\AppData\\Local\\Programs\\Python\\Python311\\Lib\\site-packages\\torchvision\\models\\_utils.py:223: UserWarning: Arguments other than a weight enum or `None` for 'weights' are deprecated since 0.13 and may be removed in the future. The current behavior is equivalent to passing `weights=ResNet18_Weights.IMAGENET1K_V1`. You can also use `weights=ResNet18_Weights.DEFAULT` to get the most up-to-date weights.\n",
      "  warnings.warn(msg)\n",
      "Downloading: \"https://download.pytorch.org/models/resnet18-f37072fd.pth\" to C:\\Users\\sunwoong/.cache\\torch\\hub\\checkpoints\\resnet18-f37072fd.pth\n",
      "100%|██████████| 44.7M/44.7M [00:00<00:00, 48.2MB/s]\n"
     ]
    }
   ],
   "source": [
    "import torchvision.models as models\n",
    "import torch.nn as nn\n",
    "\n",
    "# Pretrained ResNet18 모델 불러오기\n",
    "model = models.resnet18(pretrained=True)\n",
    "\n",
    "# 마지막 레이어 수정\n",
    "num_features = model.fc.in_features\n",
    "model.fc = nn.Linear(num_features, 2)  # 2개의 클래스: full, etc\n",
    "\n",
    "# 모델을 GPU로 전송\n",
    "model = model.to(device)\n"
   ]
  },
  {
   "cell_type": "code",
   "execution_count": 19,
   "metadata": {},
   "outputs": [
    {
     "name": "stdout",
     "output_type": "stream",
     "text": [
      "Epoch [1/10], Loss: 0.3993\n",
      "Epoch [2/10], Loss: 0.2207\n",
      "Epoch [3/10], Loss: 0.2012\n",
      "Epoch [4/10], Loss: 0.1010\n",
      "Epoch [5/10], Loss: 0.0780\n",
      "Epoch [6/10], Loss: 0.0682\n",
      "Epoch [7/10], Loss: 0.0824\n",
      "Epoch [8/10], Loss: 0.0925\n",
      "Epoch [9/10], Loss: 0.0639\n",
      "Epoch [10/10], Loss: 0.0334\n"
     ]
    }
   ],
   "source": [
    "import torch.optim as optim\n",
    "\n",
    "# 손실 함수 및 옵티마이저 설정\n",
    "criterion = nn.CrossEntropyLoss()\n",
    "optimizer = optim.Adam(model.parameters(), lr=0.001)\n",
    "\n",
    "# 모델 학습\n",
    "num_epochs = 10\n",
    "\n",
    "for epoch in range(num_epochs):\n",
    "    model.train()\n",
    "    running_loss = 0.0\n",
    "    for images, labels in train_loader:\n",
    "        images, labels = images.to(device), labels.to(device)\n",
    "        \n",
    "        # 옵티마이저 초기화\n",
    "        optimizer.zero_grad()\n",
    "        \n",
    "        # 순전파\n",
    "        outputs = model(images)\n",
    "        loss = criterion(outputs, labels)\n",
    "        \n",
    "        # 역전파 및 최적화\n",
    "        loss.backward()\n",
    "        optimizer.step()\n",
    "        \n",
    "        running_loss += loss.item()\n",
    "    \n",
    "    print(f'Epoch [{epoch+1}/{num_epochs}], Loss: {running_loss/len(train_loader):.4f}')\n"
   ]
  },
  {
   "cell_type": "code",
   "execution_count": 20,
   "metadata": {},
   "outputs": [
    {
     "name": "stdout",
     "output_type": "stream",
     "text": [
      "Validation Accuracy: 93.11%\n"
     ]
    }
   ],
   "source": [
    "model.eval()\n",
    "correct = 0\n",
    "total = 0\n",
    "with torch.no_grad():\n",
    "    for images, labels in val_loader:\n",
    "        images, labels = images.to(device), labels.to(device)\n",
    "        outputs = model(images)\n",
    "        _, predicted = torch.max(outputs.data, 1)\n",
    "        total += labels.size(0)\n",
    "        correct += (predicted == labels).sum().item()\n",
    "\n",
    "print(f'Validation Accuracy: {100 * correct / total:.2f}%')\n"
   ]
  },
  {
   "cell_type": "code",
   "execution_count": 21,
   "metadata": {},
   "outputs": [],
   "source": [
    "import pandas as pd\n",
    "import numpy as np\n",
    "\n",
    "# 예측 생성\n",
    "file_paths = [f[0] for f in train_loader.dataset.samples] + [f[0] for f in val_loader.dataset.samples]\n",
    "predictions = []\n",
    "\n",
    "model.eval()\n",
    "with torch.no_grad():\n",
    "    for images, _ in train_loader:\n",
    "        images = images.to(device)\n",
    "        outputs = model(images)\n",
    "        _, predicted = torch.max(outputs.data, 1)\n",
    "        predictions.extend(predicted.cpu().numpy())\n",
    "    \n",
    "    for images, _ in val_loader:\n",
    "        images = images.to(device)\n",
    "        outputs = model(images)\n",
    "        _, predicted = torch.max(outputs.data, 1)\n",
    "        predictions.extend(predicted.cpu().numpy())\n",
    "\n",
    "# 파일명과 예측된 라벨을 DataFrame으로 저장\n",
    "df = pd.DataFrame({'file_name': file_paths, 'label': predictions})\n",
    "\n",
    "# CSV 파일로 저장\n",
    "df.to_csv('classified_labels_resnet.csv', index=False)\n"
   ]
  },
  {
   "cell_type": "code",
   "execution_count": 22,
   "metadata": {},
   "outputs": [],
   "source": [
    "torch.save(model.state_dict(), 'resnet18_shoes_classifier.pth')"
   ]
  },
  {
   "cell_type": "code",
   "execution_count": null,
   "metadata": {},
   "outputs": [],
   "source": [
    "# 모델 불러오기\n",
    "model = models.resnet18(pretrained=False)\n",
    "num_features = model.fc.in_features\n",
    "model.fc = nn.Linear(num_features, 2)\n",
    "model.load_state_dict(torch.load('resnet18_shoes_classifier.pth'))\n",
    "model = model.to(device)"
   ]
  },
  {
   "cell_type": "code",
   "execution_count": 70,
   "metadata": {},
   "outputs": [
    {
     "name": "stdout",
     "output_type": "stream",
     "text": [
      "The image is classified as: etc\n"
     ]
    }
   ],
   "source": [
    "import torch\n",
    "import torchvision.models as models\n",
    "import torch.nn as nn\n",
    "from PIL import Image\n",
    "import torchvision.transforms as transforms\n",
    "\n",
    "# GPU 설정\n",
    "device = torch.device(\"cuda\" if torch.cuda.is_available() else \"cpu\")\n",
    "\n",
    "# Pretrained ResNet18 모델 불러오기\n",
    "model = models.resnet18(pretrained=False)\n",
    "num_features = model.fc.in_features\n",
    "model.fc = nn.Linear(num_features, 2)\n",
    "\n",
    "# 저장된 모델 상태 로드\n",
    "model.load_state_dict(torch.load('resnet18_shoes_classifier.pth'))\n",
    "\n",
    "# 모델을 GPU로 전송\n",
    "model = model.to(device)\n",
    "model.eval()\n",
    "\n",
    "# 이미지 전처리 함수 정의\n",
    "def preprocess_image(image_path):\n",
    "    transform = transforms.Compose([\n",
    "        transforms.Resize((224, 224)),\n",
    "        transforms.ToTensor(),\n",
    "        transforms.Normalize((0.485, 0.456, 0.406), (0.229, 0.224, 0.225))  # ImageNet 정규화 값\n",
    "    ])\n",
    "    image = Image.open(image_path).convert('RGB')\n",
    "    image = transform(image).unsqueeze(0)  # 배치 차원을 추가\n",
    "    return image\n",
    "\n",
    "# 이미지 경로\n",
    "image_path = './airforce_tot_classification/ETC/01b7f8442fd16cea51124d129762545c_6.jpg'\n",
    "\n",
    "# 이미지 전처리\n",
    "image = preprocess_image(image_path)\n",
    "image = image.to(device)\n",
    "\n",
    "# 예측 수행\n",
    "with torch.no_grad():\n",
    "    outputs = model(image)\n",
    "    _, predicted = torch.max(outputs, 1)\n",
    "\n",
    "# 클래스 라벨\n",
    "class_labels = ['etc', 'full']\n",
    "\n",
    "# 예측 결과 출력\n",
    "predicted_class = class_labels[predicted.item()]\n",
    "print(f'The image is classified as: {predicted_class}')\n"
   ]
  },
  {
   "cell_type": "code",
   "execution_count": 71,
   "metadata": {},
   "outputs": [
    {
     "data": {
      "text/plain": [
       "'resnet18_structure.png'"
      ]
     },
     "execution_count": 71,
     "metadata": {},
     "output_type": "execute_result"
    }
   ],
   "source": [
    "from torchviz import make_dot\n",
    "# 모델 구조 도식화\n",
    "y = model(image)\n",
    "make_dot(y, params=dict(model.named_parameters())).render(\"resnet18_structure\", format=\"png\")"
   ]
  },
  {
   "cell_type": "code",
   "execution_count": null,
   "metadata": {},
   "outputs": [],
   "source": [
    "3745c40ad5444b8c673c64a3430e4218_1\n",
    "\n",
    "1a7fc1718ade70f4a3ffe9c001b6da4c_3"
   ]
  },
  {
   "cell_type": "code",
   "execution_count": 72,
   "metadata": {},
   "outputs": [
    {
     "name": "stdout",
     "output_type": "stream",
     "text": [
      "----------------------------------------------------------------\n",
      "        Layer (type)               Output Shape         Param #\n",
      "================================================================\n",
      "            Conv2d-1         [-1, 64, 112, 112]           9,408\n",
      "       BatchNorm2d-2         [-1, 64, 112, 112]             128\n",
      "              ReLU-3         [-1, 64, 112, 112]               0\n",
      "         MaxPool2d-4           [-1, 64, 56, 56]               0\n",
      "            Conv2d-5           [-1, 64, 56, 56]          36,864\n",
      "       BatchNorm2d-6           [-1, 64, 56, 56]             128\n",
      "              ReLU-7           [-1, 64, 56, 56]               0\n",
      "            Conv2d-8           [-1, 64, 56, 56]          36,864\n",
      "       BatchNorm2d-9           [-1, 64, 56, 56]             128\n",
      "             ReLU-10           [-1, 64, 56, 56]               0\n",
      "       BasicBlock-11           [-1, 64, 56, 56]               0\n",
      "           Conv2d-12           [-1, 64, 56, 56]          36,864\n",
      "      BatchNorm2d-13           [-1, 64, 56, 56]             128\n",
      "             ReLU-14           [-1, 64, 56, 56]               0\n",
      "           Conv2d-15           [-1, 64, 56, 56]          36,864\n",
      "      BatchNorm2d-16           [-1, 64, 56, 56]             128\n",
      "             ReLU-17           [-1, 64, 56, 56]               0\n",
      "       BasicBlock-18           [-1, 64, 56, 56]               0\n",
      "           Conv2d-19          [-1, 128, 28, 28]          73,728\n",
      "      BatchNorm2d-20          [-1, 128, 28, 28]             256\n",
      "             ReLU-21          [-1, 128, 28, 28]               0\n",
      "           Conv2d-22          [-1, 128, 28, 28]         147,456\n",
      "      BatchNorm2d-23          [-1, 128, 28, 28]             256\n",
      "           Conv2d-24          [-1, 128, 28, 28]           8,192\n",
      "      BatchNorm2d-25          [-1, 128, 28, 28]             256\n",
      "             ReLU-26          [-1, 128, 28, 28]               0\n",
      "       BasicBlock-27          [-1, 128, 28, 28]               0\n",
      "           Conv2d-28          [-1, 128, 28, 28]         147,456\n",
      "      BatchNorm2d-29          [-1, 128, 28, 28]             256\n",
      "             ReLU-30          [-1, 128, 28, 28]               0\n",
      "           Conv2d-31          [-1, 128, 28, 28]         147,456\n",
      "      BatchNorm2d-32          [-1, 128, 28, 28]             256\n",
      "             ReLU-33          [-1, 128, 28, 28]               0\n",
      "       BasicBlock-34          [-1, 128, 28, 28]               0\n",
      "           Conv2d-35          [-1, 256, 14, 14]         294,912\n",
      "      BatchNorm2d-36          [-1, 256, 14, 14]             512\n",
      "             ReLU-37          [-1, 256, 14, 14]               0\n",
      "           Conv2d-38          [-1, 256, 14, 14]         589,824\n",
      "      BatchNorm2d-39          [-1, 256, 14, 14]             512\n",
      "           Conv2d-40          [-1, 256, 14, 14]          32,768\n",
      "      BatchNorm2d-41          [-1, 256, 14, 14]             512\n",
      "             ReLU-42          [-1, 256, 14, 14]               0\n",
      "       BasicBlock-43          [-1, 256, 14, 14]               0\n",
      "           Conv2d-44          [-1, 256, 14, 14]         589,824\n",
      "      BatchNorm2d-45          [-1, 256, 14, 14]             512\n",
      "             ReLU-46          [-1, 256, 14, 14]               0\n",
      "           Conv2d-47          [-1, 256, 14, 14]         589,824\n",
      "      BatchNorm2d-48          [-1, 256, 14, 14]             512\n",
      "             ReLU-49          [-1, 256, 14, 14]               0\n",
      "       BasicBlock-50          [-1, 256, 14, 14]               0\n",
      "           Conv2d-51            [-1, 512, 7, 7]       1,179,648\n",
      "      BatchNorm2d-52            [-1, 512, 7, 7]           1,024\n",
      "             ReLU-53            [-1, 512, 7, 7]               0\n",
      "           Conv2d-54            [-1, 512, 7, 7]       2,359,296\n",
      "      BatchNorm2d-55            [-1, 512, 7, 7]           1,024\n",
      "           Conv2d-56            [-1, 512, 7, 7]         131,072\n",
      "      BatchNorm2d-57            [-1, 512, 7, 7]           1,024\n",
      "             ReLU-58            [-1, 512, 7, 7]               0\n",
      "       BasicBlock-59            [-1, 512, 7, 7]               0\n",
      "           Conv2d-60            [-1, 512, 7, 7]       2,359,296\n",
      "      BatchNorm2d-61            [-1, 512, 7, 7]           1,024\n",
      "             ReLU-62            [-1, 512, 7, 7]               0\n",
      "           Conv2d-63            [-1, 512, 7, 7]       2,359,296\n",
      "      BatchNorm2d-64            [-1, 512, 7, 7]           1,024\n",
      "             ReLU-65            [-1, 512, 7, 7]               0\n",
      "       BasicBlock-66            [-1, 512, 7, 7]               0\n",
      "AdaptiveAvgPool2d-67            [-1, 512, 1, 1]               0\n",
      "           Linear-68                    [-1, 2]           1,026\n",
      "================================================================\n",
      "Total params: 11,177,538\n",
      "Trainable params: 11,177,538\n",
      "Non-trainable params: 0\n",
      "----------------------------------------------------------------\n",
      "Input size (MB): 0.57\n",
      "Forward/backward pass size (MB): 62.79\n",
      "Params size (MB): 42.64\n",
      "Estimated Total Size (MB): 106.00\n",
      "----------------------------------------------------------------\n"
     ]
    }
   ],
   "source": [
    "import torch\n",
    "import torchvision.models as models\n",
    "import torch.nn as nn\n",
    "from torchsummary import summary\n",
    "\n",
    "# GPU 설정\n",
    "device = torch.device(\"cuda\" if torch.cuda.is_available() else \"cpu\")\n",
    "\n",
    "# Pretrained ResNet18 모델 불러오기\n",
    "model = models.resnet18(pretrained=False)\n",
    "num_features = model.fc.in_features\n",
    "model.fc = nn.Linear(num_features, 2)\n",
    "\n",
    "# 저장된 모델 상태 로드\n",
    "model.load_state_dict(torch.load('resnet18_shoes_classifier.pth'))\n",
    "\n",
    "# 모델을 GPU로 전송\n",
    "model = model.to(device)\n",
    "model.eval()\n",
    "\n",
    "# 모델 요약\n",
    "summary(model, (3, 224, 224))"
   ]
  },
  {
   "cell_type": "code",
   "execution_count": 74,
   "metadata": {},
   "outputs": [
    {
     "ename": "AttributeError",
     "evalue": "module 'torch.onnx' has no attribute '_optimize_trace'",
     "output_type": "error",
     "traceback": [
      "\u001b[1;31m---------------------------------------------------------------------------\u001b[0m",
      "\u001b[1;31mAttributeError\u001b[0m                            Traceback (most recent call last)",
      "Cell \u001b[1;32mIn[74], line 21\u001b[0m\n\u001b[0;32m     18\u001b[0m \u001b[38;5;66;03m# 모델 구조 도식화\u001b[39;00m\n\u001b[0;32m     19\u001b[0m transforms \u001b[38;5;241m=\u001b[39m [hl\u001b[38;5;241m.\u001b[39mtransforms\u001b[38;5;241m.\u001b[39mFold(\u001b[38;5;124m\"\u001b[39m\u001b[38;5;124mConv > BatchNorm > Relu\u001b[39m\u001b[38;5;124m\"\u001b[39m, \u001b[38;5;124m\"\u001b[39m\u001b[38;5;124mConvBnRelu\u001b[39m\u001b[38;5;124m\"\u001b[39m), \n\u001b[0;32m     20\u001b[0m               hl\u001b[38;5;241m.\u001b[39mtransforms\u001b[38;5;241m.\u001b[39mFold(\u001b[38;5;124m\"\u001b[39m\u001b[38;5;124mConv > Relu\u001b[39m\u001b[38;5;124m\"\u001b[39m, \u001b[38;5;124m\"\u001b[39m\u001b[38;5;124mConvRelu\u001b[39m\u001b[38;5;124m\"\u001b[39m)]\n\u001b[1;32m---> 21\u001b[0m graph \u001b[38;5;241m=\u001b[39m \u001b[43mhl\u001b[49m\u001b[38;5;241;43m.\u001b[39;49m\u001b[43mbuild_graph\u001b[49m\u001b[43m(\u001b[49m\u001b[43mmodel\u001b[49m\u001b[43m,\u001b[49m\u001b[43m \u001b[49m\u001b[43mtorch\u001b[49m\u001b[38;5;241;43m.\u001b[39;49m\u001b[43mzeros\u001b[49m\u001b[43m(\u001b[49m\u001b[43m[\u001b[49m\u001b[38;5;241;43m1\u001b[39;49m\u001b[43m,\u001b[49m\u001b[43m \u001b[49m\u001b[38;5;241;43m3\u001b[39;49m\u001b[43m,\u001b[49m\u001b[43m \u001b[49m\u001b[38;5;241;43m224\u001b[39;49m\u001b[43m,\u001b[49m\u001b[43m \u001b[49m\u001b[38;5;241;43m224\u001b[39;49m\u001b[43m]\u001b[49m\u001b[43m)\u001b[49m\u001b[38;5;241;43m.\u001b[39;49m\u001b[43mto\u001b[49m\u001b[43m(\u001b[49m\u001b[43mdevice\u001b[49m\u001b[43m)\u001b[49m\u001b[43m,\u001b[49m\u001b[43m \u001b[49m\u001b[43mtransforms\u001b[49m\u001b[38;5;241;43m=\u001b[39;49m\u001b[43mtransforms\u001b[49m\u001b[43m)\u001b[49m\n\u001b[0;32m     22\u001b[0m graph\u001b[38;5;241m.\u001b[39msave(\u001b[38;5;124m\"\u001b[39m\u001b[38;5;124mresnet18_structure_hl\u001b[39m\u001b[38;5;124m\"\u001b[39m, \u001b[38;5;28mformat\u001b[39m\u001b[38;5;241m=\u001b[39m\u001b[38;5;124m\"\u001b[39m\u001b[38;5;124mpng\u001b[39m\u001b[38;5;124m\"\u001b[39m)\n",
      "File \u001b[1;32mc:\\Users\\sunwoong\\AppData\\Local\\Programs\\Python\\Python311\\Lib\\site-packages\\hiddenlayer\\graph.py:143\u001b[0m, in \u001b[0;36mbuild_graph\u001b[1;34m(model, args, input_names, transforms, framework_transforms)\u001b[0m\n\u001b[0;32m    141\u001b[0m     \u001b[38;5;28;01mfrom\u001b[39;00m \u001b[38;5;21;01m.\u001b[39;00m\u001b[38;5;21;01mpytorch_builder\u001b[39;00m \u001b[38;5;28;01mimport\u001b[39;00m import_graph, FRAMEWORK_TRANSFORMS\n\u001b[0;32m    142\u001b[0m     \u001b[38;5;28;01massert\u001b[39;00m args \u001b[38;5;129;01mis\u001b[39;00m \u001b[38;5;129;01mnot\u001b[39;00m \u001b[38;5;28;01mNone\u001b[39;00m, \u001b[38;5;124m\"\u001b[39m\u001b[38;5;124mArgument args must be provided for Pytorch models.\u001b[39m\u001b[38;5;124m\"\u001b[39m\n\u001b[1;32m--> 143\u001b[0m     \u001b[43mimport_graph\u001b[49m\u001b[43m(\u001b[49m\u001b[43mg\u001b[49m\u001b[43m,\u001b[49m\u001b[43m \u001b[49m\u001b[43mmodel\u001b[49m\u001b[43m,\u001b[49m\u001b[43m \u001b[49m\u001b[43margs\u001b[49m\u001b[43m)\u001b[49m\n\u001b[0;32m    144\u001b[0m \u001b[38;5;28;01melif\u001b[39;00m framework \u001b[38;5;241m==\u001b[39m \u001b[38;5;124m\"\u001b[39m\u001b[38;5;124mtensorflow\u001b[39m\u001b[38;5;124m\"\u001b[39m:\n\u001b[0;32m    145\u001b[0m     \u001b[38;5;28;01mfrom\u001b[39;00m \u001b[38;5;21;01m.\u001b[39;00m\u001b[38;5;21;01mtf_builder\u001b[39;00m \u001b[38;5;28;01mimport\u001b[39;00m import_graph, FRAMEWORK_TRANSFORMS\n",
      "File \u001b[1;32mc:\\Users\\sunwoong\\AppData\\Local\\Programs\\Python\\Python311\\Lib\\site-packages\\hiddenlayer\\pytorch_builder.py:71\u001b[0m, in \u001b[0;36mimport_graph\u001b[1;34m(hl_graph, model, args, input_names, verbose)\u001b[0m\n\u001b[0;32m     66\u001b[0m \u001b[38;5;28;01mdef\u001b[39;00m \u001b[38;5;21mimport_graph\u001b[39m(hl_graph, model, args, input_names\u001b[38;5;241m=\u001b[39m\u001b[38;5;28;01mNone\u001b[39;00m, verbose\u001b[38;5;241m=\u001b[39m\u001b[38;5;28;01mFalse\u001b[39;00m):\n\u001b[0;32m     67\u001b[0m     \u001b[38;5;66;03m# TODO: add input names to graph\u001b[39;00m\n\u001b[0;32m     68\u001b[0m \n\u001b[0;32m     69\u001b[0m     \u001b[38;5;66;03m# Run the Pytorch graph to get a trace and generate a graph from it\u001b[39;00m\n\u001b[0;32m     70\u001b[0m     trace, out \u001b[38;5;241m=\u001b[39m torch\u001b[38;5;241m.\u001b[39mjit\u001b[38;5;241m.\u001b[39m_get_trace_graph(model, args)\n\u001b[1;32m---> 71\u001b[0m     torch_graph \u001b[38;5;241m=\u001b[39m \u001b[43mtorch\u001b[49m\u001b[38;5;241;43m.\u001b[39;49m\u001b[43monnx\u001b[49m\u001b[38;5;241;43m.\u001b[39;49m\u001b[43m_optimize_trace\u001b[49m(trace, torch\u001b[38;5;241m.\u001b[39monnx\u001b[38;5;241m.\u001b[39mOperatorExportTypes\u001b[38;5;241m.\u001b[39mONNX)\n\u001b[0;32m     73\u001b[0m     \u001b[38;5;66;03m# Dump list of nodes (DEBUG only)\u001b[39;00m\n\u001b[0;32m     74\u001b[0m     \u001b[38;5;28;01mif\u001b[39;00m verbose:\n",
      "\u001b[1;31mAttributeError\u001b[0m: module 'torch.onnx' has no attribute '_optimize_trace'"
     ]
    }
   ],
   "source": [
    "import hiddenlayer as hl\n",
    "\n",
    "# GPU 설정\n",
    "device = torch.device(\"cuda\" if torch.cuda.is_available() else \"cpu\")\n",
    "\n",
    "# Pretrained ResNet18 모델 불러오기\n",
    "model = models.resnet18(pretrained=False)\n",
    "num_features = model.fc.in_features\n",
    "model.fc = nn.Linear(num_features, 2)\n",
    "\n",
    "# 저장된 모델 상태 로드\n",
    "model.load_state_dict(torch.load('resnet18_shoes_classifier.pth'))\n",
    "\n",
    "# 모델을 GPU로 전송\n",
    "model = model.to(device)\n",
    "model.eval()\n",
    "\n",
    "# 모델 구조 도식화\n",
    "transforms = [hl.transforms.Fold(\"Conv > BatchNorm > Relu\", \"ConvBnRelu\"), \n",
    "              hl.transforms.Fold(\"Conv > Relu\", \"ConvRelu\")]\n",
    "graph = hl.build_graph(model, torch.zeros([1, 3, 224, 224]).to(device), transforms=transforms)\n",
    "graph.save(\"resnet18_structure_hl\", format=\"png\")\n"
   ]
  },
  {
   "cell_type": "code",
   "execution_count": null,
   "metadata": {},
   "outputs": [],
   "source": []
  }
 ],
 "metadata": {
  "kernelspec": {
   "display_name": "Python 3",
   "language": "python",
   "name": "python3"
  },
  "language_info": {
   "codemirror_mode": {
    "name": "ipython",
    "version": 3
   },
   "file_extension": ".py",
   "mimetype": "text/x-python",
   "name": "python",
   "nbconvert_exporter": "python",
   "pygments_lexer": "ipython3",
   "version": "3.11.6"
  }
 },
 "nbformat": 4,
 "nbformat_minor": 2
}
