{
 "cells": [
  {
   "cell_type": "code",
   "execution_count": 3,
   "metadata": {},
   "outputs": [
    {
     "ename": "",
     "evalue": "",
     "output_type": "error",
     "traceback": [
      "\u001b[1;31m현재 셀 또는 이전 셀에서 코드를 실행하는 동안 Kernel이 충돌했습니다. \n",
      "\u001b[1;31m셀의 코드를 검토하여 가능한 오류 원인을 식별하세요. \n",
      "\u001b[1;31m자세한 내용을 보려면 <a href='https://aka.ms/vscodeJupyterKernelCrash'>여기</a>를 클릭하세요. \n",
      "\u001b[1;31m자세한 내용은 Jupyter <a href='command:jupyter.viewOutput'>로그</a>를 참조하세요."
     ]
    }
   ],
   "source": [
    "import os\n",
    "import requests\n",
    "from PIL import Image\n",
    "from io import BytesIO\n",
    "import pandas as pd\n",
    "from tqdm import tqdm\n",
    "from concurrent.futures import ThreadPoolExecutor, as_completed\n",
    "\n",
    "# CSV 파일 경로\n",
    "file_path = 'hash_pid_with_imageUrls.csv'\n",
    "#file_path = 'sample2.csv'\n",
    "# CSV 파일 읽기\n",
    "data = pd.read_csv(file_path)\n",
    "\n",
    "# 이미지 다운로드 및 저장 함수\n",
    "def download_and_save_image(image_url, pid, image_number):\n",
    "    try:\n",
    "        response = requests.get(image_url, timeout=10)\n",
    "        if response.status_code == 200:\n",
    "            image = Image.open(BytesIO(response.content))\n",
    "            image = image.convert('RGB')\n",
    "            directory = f'{pid}'\n",
    "            if not os.path.exists(directory):\n",
    "                os.makedirs(directory)\n",
    "            file_name = os.path.join(directory, f'{pid}_{image_number}.jpg')\n",
    "            image.save(file_name, 'JPEG')\n",
    "        # 상태 코드가 200이 아닌 경우 예외를 발생시키지 않으므로 로그만 남김\n",
    "        else:\n",
    "            pass\n",
    "    except Exception as e:\n",
    "        pass\n",
    "\n",
    "# 멀티스레딩으로 이미지 다운로드\n",
    "with ThreadPoolExecutor(max_workers=10) as executor:\n",
    "    futures = []\n",
    "    for index, row in data.iterrows():\n",
    "        pid = row['hash_pid']\n",
    "        for i in range(1, 13):\n",
    "            image_url_column = f'imageUrl{i}'\n",
    "            if pd.notna(row[image_url_column]):\n",
    "                futures.append(executor.submit(download_and_save_image, row[image_url_column], pid, i))\n",
    "    \n",
    "    # tqdm을 사용하여 진행 상황 표시\n",
    "    for _ in tqdm(ThreadPoolExecutor(max_workers=10).map(lambda x: x.result(), futures), total=len(futures), desc=\"Downloading images\"):\n",
    "        pass\n"
   ]
  },
  {
   "cell_type": "code",
   "execution_count": null,
   "metadata": {},
   "outputs": [],
   "source": []
  }
 ],
 "metadata": {
  "kernelspec": {
   "display_name": "Python 3",
   "language": "python",
   "name": "python3"
  },
  "language_info": {
   "codemirror_mode": {
    "name": "ipython",
    "version": 3
   },
   "file_extension": ".py",
   "mimetype": "text/x-python",
   "name": "python",
   "nbconvert_exporter": "python",
   "pygments_lexer": "ipython3",
   "version": "3.11.6"
  }
 },
 "nbformat": 4,
 "nbformat_minor": 2
}
