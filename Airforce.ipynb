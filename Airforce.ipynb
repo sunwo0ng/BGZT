{
 "cells": [
  {
   "cell_type": "code",
   "execution_count": 39,
   "metadata": {},
   "outputs": [],
   "source": [
    "import numpy as np\n",
    "import pandas as pd\n",
    "from tqdm import tqdm\n",
    "from itertools import product\n",
    "import datetime\n",
    "import matplotlib.pyplot as plt\n",
    "import collections as cc\n",
    "import seaborn as sns\n",
    "from collections import Counter\n",
    "import re\n",
    "from bs4 import BeautifulSoup\n",
    "from konlpy.tag import Okt\n",
    "\n",
    "\n",
    "data1_dir = \"../data1.csv\"\n",
    "data2_dir = \"../data2.csv\"\n",
    "data3_dir = \"../data3.csv\"\n",
    "data4_dir = \"../data4.csv\"\n",
    "### 전처리 완료 후 에어포스에 대해서 처리한 데이터 -> processed_data\n",
    "data_dir='../processed_data.csv'\n",
    "score_dir='../score_data.csv'"
   ]
  },
  {
   "cell_type": "code",
   "execution_count": 40,
   "metadata": {},
   "outputs": [],
   "source": [
    "def load_stopwords(filepath):\n",
    "    with open(filepath, 'r', encoding='utf-8') as f:\n",
    "        stopwords = f.read().splitlines()\n",
    "    return stopwords\n",
    "\n",
    "def preprocessing(description, remove_stopwords =False):\n",
    "    description_text=BeautifulSoup(description,'html5lib').get_text()\n",
    "    description_text = re.sub(r'[^가-힣a-zA-Z0-9\\s]', '', description_text)\n",
    "    description_text = re.sub(r'\\s+', ' ', description_text).strip()\n",
    "    okt = Okt()\n",
    "    description_text = description_text.replace('사 용감', '사용감')\n",
    "    description_text = description_text.replace('사용 감', '사용감')\n",
    "    word_description=okt.morphs(description_text, stem=False) \n",
    "\n",
    "    if remove_stopwords:\n",
    "        korean_stop_words = load_stopwords('stopwords-ko.txt')\n",
    "        word_description=[token for token in word_description if not token in korean_stop_words]\n",
    "    return word_description"
   ]
  },
  {
   "cell_type": "code",
   "execution_count": 41,
   "metadata": {},
   "outputs": [
    {
     "name": "stderr",
     "output_type": "stream",
     "text": [
      "C:\\Users\\sunwoong\\AppData\\Local\\Temp\\ipykernel_5332\\1075909164.py:1: DtypeWarning: Columns (22,26,27) have mixed types. Specify dtype option on import or set low_memory=False.\n",
      "  data=pd.read_csv(data1_dir,encoding='cp949')\n"
     ]
    }
   ],
   "source": [
    "data=pd.read_csv(data1_dir,encoding='cp949')\n",
    "data2=pd.read_csv(data2_dir,encoding='cp949')\n",
    "data3=pd.read_csv(data3_dir,encoding='cp949')\n",
    "data4=pd.read_csv(data4_dir,encoding='cp949')"
   ]
  },
  {
   "cell_type": "code",
   "execution_count": 44,
   "metadata": {},
   "outputs": [],
   "source": [
    "name_kor_counts = data['name_kor'].value_counts()\n"
   ]
  },
  {
   "cell_type": "code",
   "execution_count": 45,
   "metadata": {},
   "outputs": [
    {
     "data": {
      "text/plain": [
       "name_kor\n",
       "나이키 에어포스 1 '07 로우 화이트                          1176\n",
       "뉴발란스 992 메이드 인 USA 그레이                          995\n",
       "뉴발란스 993 메이드 인 USA 그레이                          993\n",
       "나이키 에어포스 1 '07 WB 플랙스                           990\n",
       "나이키 덩크 로우 레트로 블랙                                982\n",
       "컨버스 척 70 하이 블랙                                  822\n",
       "팀버랜드 프리미엄 6인치 워터프루프 부츠 위트 누벅                    694\n",
       "조던 1 x 트래비스 스캇 x 프라그먼트 레트로 로우 OG SP 밀리터리 블루     615\n",
       "아디다스 삼바 OG 클라우드 화이트                             609\n",
       "아디다스 슈퍼스타 코어 블랙 화이트                             597\n",
       "컨버스 척 70 로우 블랙                                  590\n",
       "나이키 에어포스 1 '07 로우 트리플 블랙                        550\n",
       "아식스 젤 카야노 14 크림 블랙                              547\n",
       "아디다스 삼바 OG 블랙 화이트 검                             512\n",
       "나이키 SB 덩크 로우 프로 시카고                             490\n",
       "Name: count, dtype: int64"
      ]
     },
     "execution_count": 45,
     "metadata": {},
     "output_type": "execute_result"
    }
   ],
   "source": [
    "name_kor_counts[:15]"
   ]
  },
  {
   "cell_type": "code",
   "execution_count": 46,
   "metadata": {},
   "outputs": [],
   "source": [
    "filtered_data = data[data['name_kor'].str.contains(\"나이키 에어포스 1 '07 로우 화이트\", na=False)]\n"
   ]
  },
  {
   "cell_type": "code",
   "execution_count": 47,
   "metadata": {},
   "outputs": [],
   "source": [
    "filtered_data = filtered_data[~filtered_data['id'].isin(data3['pid'])]"
   ]
  },
  {
   "cell_type": "code",
   "execution_count": 48,
   "metadata": {},
   "outputs": [
    {
     "data": {
      "text/html": [
       "<div>\n",
       "<style scoped>\n",
       "    .dataframe tbody tr th:only-of-type {\n",
       "        vertical-align: middle;\n",
       "    }\n",
       "\n",
       "    .dataframe tbody tr th {\n",
       "        vertical-align: top;\n",
       "    }\n",
       "\n",
       "    .dataframe thead th {\n",
       "        text-align: right;\n",
       "    }\n",
       "</style>\n",
       "<table border=\"1\" class=\"dataframe\">\n",
       "  <thead>\n",
       "    <tr style=\"text-align: right;\">\n",
       "      <th></th>\n",
       "      <th>id</th>\n",
       "      <th>status</th>\n",
       "      <th>create_date</th>\n",
       "      <th>name</th>\n",
       "      <th>keyword</th>\n",
       "      <th>price</th>\n",
       "      <th>flag_used</th>\n",
       "      <th>flag_taekpo</th>\n",
       "      <th>flag_exchg</th>\n",
       "      <th>qty</th>\n",
       "      <th>...</th>\n",
       "      <th>uid</th>\n",
       "      <th>is_active</th>\n",
       "      <th>created_at</th>\n",
       "      <th>setl_done_date</th>\n",
       "      <th>purchase_confirm_date</th>\n",
       "      <th>total_price</th>\n",
       "      <th>talk_user_count</th>\n",
       "      <th>first_talk_date</th>\n",
       "      <th>sell_count</th>\n",
       "      <th>register_prod_count</th>\n",
       "    </tr>\n",
       "  </thead>\n",
       "  <tbody>\n",
       "    <tr>\n",
       "      <th>860</th>\n",
       "      <td>8843435ba249eda0d211b860b1eb213a</td>\n",
       "      <td>3</td>\n",
       "      <td>2023-12-19 20:13</td>\n",
       "      <td>240 나이키 에어포스1 로우 올백 화이트</td>\n",
       "      <td>240</td>\n",
       "      <td>20000</td>\n",
       "      <td>20</td>\n",
       "      <td>0</td>\n",
       "      <td>0</td>\n",
       "      <td>0</td>\n",
       "      <td>...</td>\n",
       "      <td>cc2d6707a650836c13cebe3549d63ba4</td>\n",
       "      <td>1.0</td>\n",
       "      <td>2022-09-30 13:58</td>\n",
       "      <td>2023-12-20 15:54</td>\n",
       "      <td>2023-12-22 23:24</td>\n",
       "      <td>23000.0</td>\n",
       "      <td>1.0</td>\n",
       "      <td>2023-12-20</td>\n",
       "      <td>871</td>\n",
       "      <td>1</td>\n",
       "    </tr>\n",
       "    <tr>\n",
       "      <th>1028</th>\n",
       "      <td>0bc912bd886998ebc4c0c5ba6b362700</td>\n",
       "      <td>3</td>\n",
       "      <td>2024-04-05 13:57</td>\n",
       "      <td>나이키 에어포스</td>\n",
       "      <td>나이키,에어포스,275</td>\n",
       "      <td>75000</td>\n",
       "      <td>20</td>\n",
       "      <td>1</td>\n",
       "      <td>0</td>\n",
       "      <td>0</td>\n",
       "      <td>...</td>\n",
       "      <td>NaN</td>\n",
       "      <td>NaN</td>\n",
       "      <td>NaN</td>\n",
       "      <td>2024-04-05 16:53</td>\n",
       "      <td>2024-04-18 14:07</td>\n",
       "      <td>87620.0</td>\n",
       "      <td>2.0</td>\n",
       "      <td>2024-04-05</td>\n",
       "      <td>1</td>\n",
       "      <td>1</td>\n",
       "    </tr>\n",
       "    <tr>\n",
       "      <th>1128</th>\n",
       "      <td>ac2a3dc7a07a0927e85ff6ea0820051c</td>\n",
       "      <td>3</td>\n",
       "      <td>2024-01-17 23:08</td>\n",
       "      <td>에어포스1</td>\n",
       "      <td>나이키</td>\n",
       "      <td>140000</td>\n",
       "      <td>20</td>\n",
       "      <td>1</td>\n",
       "      <td>0</td>\n",
       "      <td>0</td>\n",
       "      <td>...</td>\n",
       "      <td>NaN</td>\n",
       "      <td>NaN</td>\n",
       "      <td>NaN</td>\n",
       "      <td>2024-01-18 18:20</td>\n",
       "      <td>2024-01-18 18:46</td>\n",
       "      <td>144900.0</td>\n",
       "      <td>1.0</td>\n",
       "      <td>2024-01-18</td>\n",
       "      <td>14</td>\n",
       "      <td>1</td>\n",
       "    </tr>\n",
       "    <tr>\n",
       "      <th>1272</th>\n",
       "      <td>ac78a060c12396c566e9eb7de105243c</td>\n",
       "      <td>3</td>\n",
       "      <td>2024-01-22 16:52</td>\n",
       "      <td>나이키 에어포스1 올백 275 팝니다</td>\n",
       "      <td>NaN</td>\n",
       "      <td>60000</td>\n",
       "      <td>21</td>\n",
       "      <td>1</td>\n",
       "      <td>0</td>\n",
       "      <td>0</td>\n",
       "      <td>...</td>\n",
       "      <td>NaN</td>\n",
       "      <td>NaN</td>\n",
       "      <td>NaN</td>\n",
       "      <td>NaN</td>\n",
       "      <td>2024-01-31 17:10</td>\n",
       "      <td>60000.0</td>\n",
       "      <td>1.0</td>\n",
       "      <td>2024-01-22</td>\n",
       "      <td>3</td>\n",
       "      <td>1</td>\n",
       "    </tr>\n",
       "    <tr>\n",
       "      <th>1969</th>\n",
       "      <td>61b88b1a528f28b4032310703a2b1dc7</td>\n",
       "      <td>3</td>\n",
       "      <td>2024-02-14 15:34</td>\n",
       "      <td>나이키 에어포스 1 올백 240</td>\n",
       "      <td>나이키,에어포스,에어포스1,나이키포스</td>\n",
       "      <td>69000</td>\n",
       "      <td>21</td>\n",
       "      <td>0</td>\n",
       "      <td>0</td>\n",
       "      <td>0</td>\n",
       "      <td>...</td>\n",
       "      <td>NaN</td>\n",
       "      <td>NaN</td>\n",
       "      <td>NaN</td>\n",
       "      <td>NaN</td>\n",
       "      <td>2024-03-05 19:51</td>\n",
       "      <td>69000.0</td>\n",
       "      <td>5.0</td>\n",
       "      <td>2024-02-15</td>\n",
       "      <td>2</td>\n",
       "      <td>1</td>\n",
       "    </tr>\n",
       "  </tbody>\n",
       "</table>\n",
       "<p>5 rows × 33 columns</p>\n",
       "</div>"
      ],
      "text/plain": [
       "                                    id  status       create_date  \\\n",
       "860   8843435ba249eda0d211b860b1eb213a       3  2023-12-19 20:13   \n",
       "1028  0bc912bd886998ebc4c0c5ba6b362700       3  2024-04-05 13:57   \n",
       "1128  ac2a3dc7a07a0927e85ff6ea0820051c       3  2024-01-17 23:08   \n",
       "1272  ac78a060c12396c566e9eb7de105243c       3  2024-01-22 16:52   \n",
       "1969  61b88b1a528f28b4032310703a2b1dc7       3  2024-02-14 15:34   \n",
       "\n",
       "                         name               keyword   price  flag_used  \\\n",
       "860   240 나이키 에어포스1 로우 올백 화이트                   240   20000         20   \n",
       "1028                 나이키 에어포스          나이키,에어포스,275   75000         20   \n",
       "1128                    에어포스1                   나이키  140000         20   \n",
       "1272     나이키 에어포스1 올백 275 팝니다                   NaN   60000         21   \n",
       "1969        나이키 에어포스 1 올백 240  나이키,에어포스,에어포스1,나이키포스   69000         21   \n",
       "\n",
       "      flag_taekpo  flag_exchg  qty  ...                               uid  \\\n",
       "860             0           0    0  ...  cc2d6707a650836c13cebe3549d63ba4   \n",
       "1028            1           0    0  ...                               NaN   \n",
       "1128            1           0    0  ...                               NaN   \n",
       "1272            1           0    0  ...                               NaN   \n",
       "1969            0           0    0  ...                               NaN   \n",
       "\n",
       "      is_active        created_at    setl_done_date purchase_confirm_date  \\\n",
       "860         1.0  2022-09-30 13:58  2023-12-20 15:54      2023-12-22 23:24   \n",
       "1028        NaN               NaN  2024-04-05 16:53      2024-04-18 14:07   \n",
       "1128        NaN               NaN  2024-01-18 18:20      2024-01-18 18:46   \n",
       "1272        NaN               NaN               NaN      2024-01-31 17:10   \n",
       "1969        NaN               NaN               NaN      2024-03-05 19:51   \n",
       "\n",
       "      total_price talk_user_count  first_talk_date sell_count  \\\n",
       "860       23000.0             1.0       2023-12-20        871   \n",
       "1028      87620.0             2.0       2024-04-05          1   \n",
       "1128     144900.0             1.0       2024-01-18         14   \n",
       "1272      60000.0             1.0       2024-01-22          3   \n",
       "1969      69000.0             5.0       2024-02-15          2   \n",
       "\n",
       "      register_prod_count  \n",
       "860                     1  \n",
       "1028                    1  \n",
       "1128                    1  \n",
       "1272                    1  \n",
       "1969                    1  \n",
       "\n",
       "[5 rows x 33 columns]"
      ]
     },
     "execution_count": 48,
     "metadata": {},
     "output_type": "execute_result"
    }
   ],
   "source": [
    "filtered_data.head()"
   ]
  },
  {
   "cell_type": "code",
   "execution_count": 49,
   "metadata": {},
   "outputs": [],
   "source": [
    "filtered_data2 = filtered_data.dropna(subset=['setl_done_date', 'purchase_confirm_date'], how='all')\n"
   ]
  },
  {
   "cell_type": "code",
   "execution_count": 50,
   "metadata": {},
   "outputs": [],
   "source": [
    "filtered_data2.to_csv('Airfocre_tot.csv',encoding='cp949',index=False)"
   ]
  },
  {
   "cell_type": "markdown",
   "metadata": {},
   "source": [
    "## 에어포스 이미지 다운로드"
   ]
  },
  {
   "cell_type": "code",
   "execution_count": 5,
   "metadata": {},
   "outputs": [
    {
     "name": "stderr",
     "output_type": "stream",
     "text": [
      "Downloading images: 100%|██████████| 960/960 [00:01<00:00, 494.98it/s]\n"
     ]
    }
   ],
   "source": [
    "import os\n",
    "import requests\n",
    "from PIL import Image\n",
    "from io import BytesIO\n",
    "import pandas as pd\n",
    "from tqdm import tqdm\n",
    "from concurrent.futures import ThreadPoolExecutor, as_completed\n",
    "\n",
    "# CSV 파일 경로\n",
    "file_path = 'hash_pid_with_imageUrls.csv'\n",
    "file_path2 = 'Airfocre_tot.csv'\n",
    "#file_path = 'sample2.csv'\n",
    "# CSV 파일 읽기\n",
    "data1 = pd.read_csv(file_path)\n",
    "data2 = pd.read_csv(file_path2,encoding='cp949')\n",
    "filtered_pid = data1[data1['hash_pid'].isin(data2['id'])]\n",
    "\n",
    "# 이미지 다운로드 및 저장 함수\n",
    "def download_and_save_image(image_url, pid, image_number):\n",
    "    try:\n",
    "        response = requests.get(image_url, timeout=10)\n",
    "        if response.status_code == 200:\n",
    "            print(\"hi\")\n",
    "            image = Image.open(BytesIO(response.content))\n",
    "            image = image.convert('RGB')\n",
    "            directory = f'AIRFORCE_classification25'\n",
    "            if not os.path.exists(directory):\n",
    "                os.makedirs(directory)\n",
    "                print(\"hi\")\n",
    "            file_name = os.path.join(directory, f'{pid}_{image_number}.jpg')\n",
    "            image.save(file_name, 'JPEG')\n",
    "    except Exception as e:\n",
    "        print(f\"Error downloading {image_url}: {e}\")\n",
    "\n",
    "# 멀티스레딩으로 이미지 다운로드\n",
    "with ThreadPoolExecutor(max_workers=10) as executor:\n",
    "    futures = []\n",
    "    for index, row in filtered_pid.iterrows():\n",
    "        pid = row['hash_pid']\n",
    "        for i in range(1, 13):\n",
    "            image_url_column = f'imageUrl{i}'\n",
    "            if pd.notna(row[image_url_column]):\n",
    "                futures.append(executor.submit(download_and_save_image, row[image_url_column], pid, i))\n",
    "    \n",
    "    # tqdm을 사용하여 진행 상황 표시\n",
    "    for _ in tqdm(ThreadPoolExecutor(max_workers=10).map(lambda x: x.result(), futures), total=len(futures), desc=\"Downloading images\"):\n",
    "        pass"
   ]
  },
  {
   "cell_type": "code",
   "execution_count": 6,
   "metadata": {},
   "outputs": [
    {
     "name": "stdout",
     "output_type": "stream",
     "text": [
      "모든 이미지를 data 폴더로 이동 완료!\n"
     ]
    }
   ],
   "source": [
    "import os\n",
    "import shutil\n",
    "\n",
    "# 데이터 폴더의 경로 설정\n",
    "data_folder_path = './Airforce_white'\n",
    "\n",
    "# data 폴더 내 모든 pid 폴더들 가져오기\n",
    "pid_folders = [os.path.join(data_folder_path, pid_folder) for pid_folder in os.listdir(data_folder_path) if os.path.isdir(os.path.join(data_folder_path, pid_folder))]\n",
    "\n",
    "# 각 pid 폴더를 순회하며 이미지 파일을 data 폴더로 이동\n",
    "for pid_folder in pid_folders:\n",
    "    for filename in os.listdir(pid_folder):\n",
    "        file_path = os.path.join(pid_folder, filename)\n",
    "        if os.path.isfile(file_path):\n",
    "            # 이동할 경로 설정, 중복 파일명 처리\n",
    "            new_file_name = f\"{os.path.basename(pid_folder)}_{filename}\" if os.path.exists(os.path.join(data_folder_path, filename)) else filename\n",
    "            new_file_path = os.path.join(data_folder_path, new_file_name)\n",
    "            shutil.move(file_path, new_file_path)\n",
    "\n",
    "    # 모든 파일을 이동한 후, 빈 폴더 삭제\n",
    "    os.rmdir(pid_folder)\n",
    "\n",
    "print(\"모든 이미지를 data 폴더로 이동 완료!\")\n"
   ]
  },
  {
   "cell_type": "code",
   "execution_count": null,
   "metadata": {},
   "outputs": [],
   "source": []
  },
  {
   "cell_type": "code",
   "execution_count": null,
   "metadata": {},
   "outputs": [],
   "source": []
  },
  {
   "cell_type": "code",
   "execution_count": null,
   "metadata": {},
   "outputs": [],
   "source": []
  },
  {
   "cell_type": "code",
   "execution_count": null,
   "metadata": {},
   "outputs": [],
   "source": []
  },
  {
   "cell_type": "code",
   "execution_count": null,
   "metadata": {},
   "outputs": [],
   "source": []
  },
  {
   "cell_type": "code",
   "execution_count": null,
   "metadata": {},
   "outputs": [],
   "source": []
  },
  {
   "cell_type": "code",
   "execution_count": null,
   "metadata": {},
   "outputs": [],
   "source": []
  }
 ],
 "metadata": {
  "kernelspec": {
   "display_name": "Python 3",
   "language": "python",
   "name": "python3"
  },
  "language_info": {
   "codemirror_mode": {
    "name": "ipython",
    "version": 3
   },
   "file_extension": ".py",
   "mimetype": "text/x-python",
   "name": "python",
   "nbconvert_exporter": "python",
   "pygments_lexer": "ipython3",
   "version": "3.11.6"
  }
 },
 "nbformat": 4,
 "nbformat_minor": 2
}
